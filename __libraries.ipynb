{
 "cells": [
  {
   "cell_type": "code",
   "execution_count": 1,
   "id": "2fa90f6b-b442-47ba-9b21-f28cf8c9f775",
   "metadata": {},
   "outputs": [],
   "source": [
    "import numpy as np\n",
    "import pandas as pd\n",
    "import sklearn as sk\n",
    "import matplotlib\n",
    "import matplotlib.pyplot as plt\n",
    "import seaborn as sns\n",
    "import imblearn\n",
    "import xgboost\n",
    "import lightgbm as lgb\n",
    "# import torch\n",
    "import datetime as dt\n",
    "import random\n",
    "import time\n",
    "import os\n",
    "import pickle\n",
    "import ast\n",
    "import dill\n",
    "import collections\n",
    "# import dataframe_image as dfi\n",
    "\n",
    "import matplotlib.lines as mlines\n",
    "from matplotlib.patches import Rectangle\n",
    "from matplotlib.lines import Line2D\n",
    "\n",
    "from scipy.interpolate import make_interp_spline, BSpline\n",
    "\n",
    "from sklearn.metrics import make_scorer\n",
    "\n",
    "from imblearn.over_sampling import SMOTE\n",
    "from imblearn.under_sampling import RandomUnderSampler\n",
    "from sklearn.preprocessing import StandardScaler\n",
    "\n",
    "from sklearn.model_selection import GridSearchCV\n",
    "from sklearn.model_selection import RandomizedSearchCV\n",
    "\n",
    "from sklearn.linear_model import LogisticRegression\n",
    "from sklearn.tree import DecisionTreeClassifier\n",
    "from sklearn.ensemble import BaggingClassifier\n",
    "from sklearn.ensemble import RandomForestClassifier\n",
    "from imblearn.ensemble import BalancedBaggingClassifier\n",
    "from xgboost import XGBClassifier\n",
    "from lightgbm import LGBMClassifier\n",
    "# import torch.nn.functional as F\n",
    "# from skorch import NeuralNetClassifier\n",
    "\n",
    "from imblearn.pipeline import Pipeline\n",
    "\n",
    "from sklearn.metrics import average_precision_score\n",
    "from sklearn.metrics import roc_curve\n",
    "from sklearn.metrics import auc\n",
    "from sklearn.metrics import precision_recall_curve\n",
    "from sklearn.metrics import precision_score, recall_score, f1_score\n",
    "from sklearn.metrics import confusion_matrix"
   ]
  },
  {
   "cell_type": "raw",
   "id": "f1f8838e-1172-4881-bbf4-1a8ed0e517ea",
   "metadata": {},
   "source": [
    "if torch.cuda.is_available():\n",
    "    DEVICE = \"cuda\" \n",
    "else:\n",
    "    DEVICE = \"cpu\""
   ]
  },
  {
   "cell_type": "code",
   "execution_count": 3,
   "id": "e859163e-1c6b-45fa-b772-05dcc3bd899f",
   "metadata": {},
   "outputs": [],
   "source": [
    "theme = 'light'\n",
    "# theme = 'dark'\n",
    "\n",
    "scatter = {\n",
    "    'lw': 0.15\n",
    "}\n",
    "point = {\n",
    "    'linestyle': 'none',\n",
    "    'markersize': 3,\n",
    "    'err_kws': {'lw': 1.2},\n",
    "    'capsize': 0.03\n",
    "}\n",
    "hist = {\n",
    "    'alpha': 1\n",
    "}\n",
    "title_inline = {\n",
    "    'pad': 27\n",
    "}\n",
    "legend = {\n",
    "    'title_fontproperties': {'weight': 'bold'},\n",
    "    'alignment': 'left',\n",
    "    'loc': 'center left', # right and upper (6)\n",
    "    'bbox_to_anchor': (1,1),\n",
    "    'frameon': False\n",
    "}\n",
    "legend_mid = {\n",
    "    'title_fontproperties': {'weight': 'bold'},\n",
    "    'alignment': 'left',\n",
    "    'loc': 'upper left', # right and mid (2)\n",
    "    'bbox_to_anchor': (1,1),\n",
    "    'frameon': False\n",
    "}\n",
    "legend_inline = {\n",
    "    'loc': 'lower left',\n",
    "    'bbox_to_anchor': (0,1),\n",
    "    'frameon': False\n",
    "}\n",
    "custom_params = {\n",
    "    'figure.figsize': (8, 2.5), # ширина и высота в дюймах\n",
    "    'figure.titlesize': 12,\n",
    "    'figure.titleweight': 'medium',\n",
    "    'figure.labelsize': 9,\n",
    "    'figure.labelweight': 'medium',\n",
    "    'axes.axisbelow': True,\n",
    "    'axes.spines.bottom': True, # ось X\n",
    "    'axes.spines.left': True, # ось Y\n",
    "    'axes.spines.right': False, # не отображать правую рамку \n",
    "    'axes.spines.top': False, # не отображать верхнюю рамку\n",
    "    'axes.linewidth': 1, # 1.2\n",
    "    'axes.titlelocation': 'left', # расположение заголовка\n",
    "    'axes.titlepad': 10.0, # расстояние между заголовком и графиком\n",
    "    'axes.titlesize': 10.0, # заголовок\n",
    "    'axes.titleweight': 'medium', # заголовок\n",
    "    'axes.labelpad': 8.0, # расстояние между подписью оси и осью\n",
    "    'axes.labelsize': 9.0, # оси\n",
    "    'axes.labelweight': 'bold', # подписи осей\n",
    "    'xaxis.labellocation': 'left', # положение подписи\n",
    "    'yaxis.labellocation': 'top', # положение подписи\n",
    "    'axes.grid': True,\n",
    "    'axes.grid.axis': 'both', # какую разметку отображать\n",
    "    'grid.linestyle': ':',\n",
    "    'grid.linewidth': 0.5,\n",
    "    'xtick.bottom': False,\n",
    "    'xtick.direction': 'in',\n",
    "    'xtick.major.bottom': True,\n",
    "    'xtick.major.pad': 3.5,\n",
    "    'xtick.major.size': 3.0,\n",
    "    'xtick.major.top': True,\n",
    "    'xtick.major.width': 1,\n",
    "    'xtick.labelsize': 8.0, # деления оси X\n",
    "    'ytick.left': False,\n",
    "    'ytick.direction': 'in',\n",
    "    'ytick.major.left': True,\n",
    "    'ytick.major.pad': 3.5,\n",
    "    'ytick.major.size': 3.0,\n",
    "    'ytick.major.left': True,\n",
    "    'ytick.major.width': 1,\n",
    "    'ytick.labelsize': 8.0, # деления оси Y\n",
    "    'lines.linewidth': 1.2,\n",
    "    'lines.markersize': 3,\n",
    "    'legend.title_fontsize': 8.0,\n",
    "    'legend.fontsize': 8.0,\n",
    "    'legend.frameon': False, # рамка вокруг легенды\n",
    "    'legend.framealpha': 0.75,\n",
    "    # 'legend.labelspacing': 0.5, # расстояние между строками\n",
    "    # 'legend.columnspacing': 0.5, # расстояние между колонками\n",
    "    # 'legend.handletextpad': 0.0, # расстояние между маркером и текстом\n",
    "    'patch.force_edgecolor': True, # отображать границу столбцов\n",
    "    'font.family': 'Ubuntu'\n",
    "}\n",
    "custom_params_light = {\n",
    "    'figure.facecolor': '#FEFEFE', # FEFEFE\n",
    "    'figure.edgecolor': '#FEFEFE',\n",
    "    'axes.facecolor': '#FEFEFE',\n",
    "    'axes.titlecolor': '#454545',\n",
    "    'axes.labelcolor': '#505050',\n",
    "    'axes.edgecolor': '#BBBBBB', # цвет осей\n",
    "    'grid.color': '#D9D9D9',\n",
    "    'xtick.color': '#BBBBBB', # 0.90\n",
    "    'xtick.labelcolor': '#757575',\n",
    "    'ytick.color': '#BBBBBB', # 0.90\n",
    "    'ytick.labelcolor': '#757575',\n",
    "    'legend.labelcolor': '#4B4B4B',\n",
    "    'legend.edgecolor': '#A6A6A6',\n",
    "    'legend.facecolor': '#FEFEFE',\n",
    "    'text.color': '#4B4B4B',\n",
    "    'patch.edgecolor': '#FEFEFE', # цвет границы стобцов, \n",
    "    'scatter.edgecolors': '#FEFEFE'\n",
    "}\n",
    "custom_params_dark = {\n",
    "    'figure.facecolor': '#303030',\n",
    "    'axes.facecolor': '#303030',\n",
    "    'axes.edgecolor': '#555555',\n",
    "    'axes.titlecolor': '#AAAAAA',\n",
    "    'axes.labelcolor': '#AAAAAA',\n",
    "    'grid.color': '#CCCCCC', # CCCCCC\n",
    "    'grid.linewidth': 0.1,\n",
    "    'xtick.color': '#858585',\n",
    "    'ytick.color': '#858585',\n",
    "    'lines.markersize': 4.5,\n",
    "    'legend.edgecolor': '#555555',\n",
    "    'legend.facecolor': '#303030',\n",
    "    'legend.labelcolor': '#858585',\n",
    "    'legend.framealpha': 0.5,\n",
    "    'text.color': '#AAAAAA',\n",
    "    'patch.edgecolor': '#303030',\n",
    "    'scatter.edgecolors': '#323232'\n",
    "}\n",
    "\n",
    "if theme == 'light':\n",
    "\n",
    "    palette = sns.color_palette([\n",
    "        '#4682B4', '#AF4035', '#00937F', '#FFA500', '#7B5141',\n",
    "        '#B86A84', '#5B3256', '#2E3876', '#587B7F', '#006D6F',\n",
    "        '#A7CBE8', '#6D9BC3', '#4D7DA8', '#3D6384', '#304E68',\n",
    "        '#AAAAAA', '#808080', '#707070', '#606060', '#505050'\n",
    "    ])\n",
    "    # add palette to custom parameters dictionary for light theme\n",
    "    custom_params_light.update({'axes.prop_cycle': plt.cycler(color=palette)})\n",
    "\n",
    "    corr_matrix = sns.color_palette(\n",
    "        'blend:#255986,#FFFFFF,#933737', as_cmap=True)\n",
    "    report = sns.color_palette(\n",
    "        'blend:#E6E9EC,#FFFFFF,#9E2A2B', as_cmap=True)\n",
    "    gradient = sns.color_palette(\n",
    "        'blend:#FFFFFF,#3D6384', as_cmap=True)\n",
    "    pairplot = sns.color_palette(['#8DB4D7', '#AF4035'])\n",
    "\n",
    "    # add custom parameters of light theme to parameters dictionary\n",
    "    custom_params.update(custom_params_light)\n",
    "    # update rcParams \n",
    "    plt.rcParams.update(custom_params)\n",
    "    # parameters for axis_rstyle function\n",
    "\n",
    "if theme == 'dark':\n",
    "    \n",
    "    palette = sns.color_palette([\n",
    "    #    1 grey     2 red      3 blue     4 green    5 orange\n",
    "        '#AAAAAA', '#973B30', '#748BAA', '#487150', '#A57545',\n",
    "        '#9A6484', '#5B3256', '#6C4839', '#5C8DA0', '#847637',\n",
    "        '#304E68', '#3D6384', '#4D7DA8', '#6D9BC3', '#A7CBE8',\n",
    "        '#505050', '#606060', '#707070', '#808080', '#AAAAAA',\n",
    "    ])\n",
    "    # add palette to custom parameters dictionary for dark theme\n",
    "    custom_params_dark.update({'axes.prop_cycle': plt.cycler(color=palette)})\n",
    "    \n",
    "    corr_matrix = sns.color_palette(\n",
    "        'blend:#285780,#909090,#8D3131', as_cmap=True)\n",
    "    report = sns.color_palette(\n",
    "        'blend:#E6E9EC,#CCCCCC,#9E2A2B', as_cmap=True)\n",
    "    gradient = sns.color_palette(\n",
    "        'blend:#FFFFFF,#3D6384', as_cmap=True)\n",
    "    pairplot = sns.color_palette(['#8DB4D7', '#AF4035'])\n",
    "\n",
    "    # add custom parameters of dark theme to parameters dictionary\n",
    "    custom_params.update(custom_params_dark)\n",
    "    # update rcParams \n",
    "    plt.rcParams.update(custom_params)\n",
    "\n",
    "%matplotlib inline\n",
    "\n",
    "seed = 42"
   ]
  },
  {
   "cell_type": "code",
   "execution_count": 4,
   "id": "14e5e175-3143-45f5-afc5-1096e5d3debc",
   "metadata": {},
   "outputs": [
    {
     "data": {
      "text/html": [
       "<svg  width=\"275\" height=\"55\"><rect x=\"0\" y=\"0\" width=\"55\" height=\"55\" style=\"fill:#4682b4;stroke-width:2;stroke:rgb(255,255,255)\"/><rect x=\"55\" y=\"0\" width=\"55\" height=\"55\" style=\"fill:#af4035;stroke-width:2;stroke:rgb(255,255,255)\"/><rect x=\"110\" y=\"0\" width=\"55\" height=\"55\" style=\"fill:#00937f;stroke-width:2;stroke:rgb(255,255,255)\"/><rect x=\"165\" y=\"0\" width=\"55\" height=\"55\" style=\"fill:#ffa500;stroke-width:2;stroke:rgb(255,255,255)\"/><rect x=\"220\" y=\"0\" width=\"55\" height=\"55\" style=\"fill:#7b5141;stroke-width:2;stroke:rgb(255,255,255)\"/></svg>"
      ],
      "text/plain": [
       "[(0.27450980392156865, 0.5098039215686274, 0.7058823529411765),\n",
       " (0.6862745098039216, 0.25098039215686274, 0.20784313725490197),\n",
       " (0.0, 0.5764705882352941, 0.4980392156862745),\n",
       " (1.0, 0.6470588235294118, 0.0),\n",
       " (0.4823529411764706, 0.3176470588235294, 0.2549019607843137)]"
      ]
     },
     "execution_count": 4,
     "metadata": {},
     "output_type": "execute_result"
    }
   ],
   "source": [
    "# 1 2 3 4 5\n",
    "sns.color_palette(palette[:5])"
   ]
  },
  {
   "cell_type": "code",
   "execution_count": 5,
   "id": "6aa0aec5-5b8a-4ee8-b0f8-06bb362aa23a",
   "metadata": {},
   "outputs": [
    {
     "data": {
      "text/html": [
       "<svg  width=\"275\" height=\"55\"><rect x=\"0\" y=\"0\" width=\"55\" height=\"55\" style=\"fill:#b86a84;stroke-width:2;stroke:rgb(255,255,255)\"/><rect x=\"55\" y=\"0\" width=\"55\" height=\"55\" style=\"fill:#5b3256;stroke-width:2;stroke:rgb(255,255,255)\"/><rect x=\"110\" y=\"0\" width=\"55\" height=\"55\" style=\"fill:#2e3876;stroke-width:2;stroke:rgb(255,255,255)\"/><rect x=\"165\" y=\"0\" width=\"55\" height=\"55\" style=\"fill:#587b7f;stroke-width:2;stroke:rgb(255,255,255)\"/><rect x=\"220\" y=\"0\" width=\"55\" height=\"55\" style=\"fill:#006d6f;stroke-width:2;stroke:rgb(255,255,255)\"/></svg>"
      ],
      "text/plain": [
       "[(0.7215686274509804, 0.41568627450980394, 0.5176470588235295),\n",
       " (0.3568627450980392, 0.19607843137254902, 0.33725490196078434),\n",
       " (0.1803921568627451, 0.2196078431372549, 0.4627450980392157),\n",
       " (0.34509803921568627, 0.4823529411764706, 0.4980392156862745),\n",
       " (0.0, 0.42745098039215684, 0.43529411764705883)]"
      ]
     },
     "execution_count": 5,
     "metadata": {},
     "output_type": "execute_result"
    }
   ],
   "source": [
    "# 6 7 8 9 10\n",
    "sns.color_palette(palette[5:10])"
   ]
  },
  {
   "cell_type": "code",
   "execution_count": 15,
   "id": "aed25853-a687-40b6-99d2-359881b95c1c",
   "metadata": {},
   "outputs": [
    {
     "data": {
      "text/html": [
       "<svg  width=\"275\" height=\"55\"><rect x=\"0\" y=\"0\" width=\"55\" height=\"55\" style=\"fill:#a7cbe8;stroke-width:2;stroke:rgb(255,255,255)\"/><rect x=\"55\" y=\"0\" width=\"55\" height=\"55\" style=\"fill:#6d9bc3;stroke-width:2;stroke:rgb(255,255,255)\"/><rect x=\"110\" y=\"0\" width=\"55\" height=\"55\" style=\"fill:#4d7da8;stroke-width:2;stroke:rgb(255,255,255)\"/><rect x=\"165\" y=\"0\" width=\"55\" height=\"55\" style=\"fill:#3d6384;stroke-width:2;stroke:rgb(255,255,255)\"/><rect x=\"220\" y=\"0\" width=\"55\" height=\"55\" style=\"fill:#304e68;stroke-width:2;stroke:rgb(255,255,255)\"/></svg>"
      ],
      "text/plain": [
       "[(0.6549019607843137, 0.796078431372549, 0.9098039215686274),\n",
       " (0.42745098039215684, 0.6078431372549019, 0.7647058823529411),\n",
       " (0.30196078431372547, 0.49019607843137253, 0.6588235294117647),\n",
       " (0.23921568627450981, 0.38823529411764707, 0.5176470588235295),\n",
       " (0.18823529411764706, 0.3058823529411765, 0.40784313725490196)]"
      ]
     },
     "execution_count": 15,
     "metadata": {},
     "output_type": "execute_result"
    }
   ],
   "source": [
    "# -10 -9 -8 -7 -6\n",
    "sns.color_palette(palette[10:15])"
   ]
  },
  {
   "cell_type": "code",
   "execution_count": 16,
   "id": "28e28a86-be76-4e90-bbd7-0585cf92e5ef",
   "metadata": {},
   "outputs": [
    {
     "data": {
      "text/html": [
       "<svg  width=\"275\" height=\"55\"><rect x=\"0\" y=\"0\" width=\"55\" height=\"55\" style=\"fill:#aaaaaa;stroke-width:2;stroke:rgb(255,255,255)\"/><rect x=\"55\" y=\"0\" width=\"55\" height=\"55\" style=\"fill:#808080;stroke-width:2;stroke:rgb(255,255,255)\"/><rect x=\"110\" y=\"0\" width=\"55\" height=\"55\" style=\"fill:#707070;stroke-width:2;stroke:rgb(255,255,255)\"/><rect x=\"165\" y=\"0\" width=\"55\" height=\"55\" style=\"fill:#606060;stroke-width:2;stroke:rgb(255,255,255)\"/><rect x=\"220\" y=\"0\" width=\"55\" height=\"55\" style=\"fill:#505050;stroke-width:2;stroke:rgb(255,255,255)\"/></svg>"
      ],
      "text/plain": [
       "[(0.6666666666666666, 0.6666666666666666, 0.6666666666666666),\n",
       " (0.5019607843137255, 0.5019607843137255, 0.5019607843137255),\n",
       " (0.4392156862745098, 0.4392156862745098, 0.4392156862745098),\n",
       " (0.3764705882352941, 0.3764705882352941, 0.3764705882352941),\n",
       " (0.3137254901960784, 0.3137254901960784, 0.3137254901960784)]"
      ]
     },
     "execution_count": 16,
     "metadata": {},
     "output_type": "execute_result"
    }
   ],
   "source": [
    "# -5 -4 -3 -2 -1\n",
    "sns.color_palette(palette[15:])"
   ]
  }
 ],
 "metadata": {
  "kernelspec": {
   "display_name": "Python 3 (ipykernel)",
   "language": "python",
   "name": "python3"
  },
  "language_info": {
   "codemirror_mode": {
    "name": "ipython",
    "version": 3
   },
   "file_extension": ".py",
   "mimetype": "text/x-python",
   "name": "python",
   "nbconvert_exporter": "python",
   "pygments_lexer": "ipython3",
   "version": "3.12.2"
  }
 },
 "nbformat": 4,
 "nbformat_minor": 5
}
