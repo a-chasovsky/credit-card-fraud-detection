{
 "cells": [
  {
   "cell_type": "code",
   "execution_count": 1,
   "id": "760e08ba-854e-494c-b481-7cc359ab085b",
   "metadata": {},
   "outputs": [],
   "source": [
    "import time \n",
    "t_script = time.time()"
   ]
  },
  {
   "cell_type": "markdown",
   "id": "5aa30f7d-d6af-4a6a-86fb-3ed95f872eff",
   "metadata": {},
   "source": [
    "### Load libraries, functions, palette, theme"
   ]
  },
  {
   "cell_type": "code",
   "execution_count": 231,
   "id": "0df22114-86a8-4c2a-8a0f-fa421734ec46",
   "metadata": {},
   "outputs": [],
   "source": [
    "%run __libraries.ipynb"
   ]
  },
  {
   "cell_type": "code",
   "execution_count": 240,
   "id": "00becf6d-e203-47f4-87a9-6f67eb92ce08",
   "metadata": {},
   "outputs": [],
   "source": [
    "%run __functions.ipynb"
   ]
  },
  {
   "cell_type": "markdown",
   "id": "3f741e70-33db-459a-807c-2602364c7760",
   "metadata": {},
   "source": [
    "### Load Saved Section if exists"
   ]
  },
  {
   "cell_type": "code",
   "execution_count": 4,
   "id": "3aaa9c31-7e7e-448e-a2b6-56f2c874cab5",
   "metadata": {},
   "outputs": [],
   "source": [
    "dir_save = '04-Models-Comparison'"
   ]
  },
  {
   "cell_type": "raw",
   "id": "97a38cc9-60aa-4703-a029-a99c3874632a",
   "metadata": {},
   "source": [
    "if os.path.exists(f'sessions/{dir_save}'):\n",
    "    load_session(dir_save)\n",
    "else:\n",
    "    print(f\"No such session: 'sessions/{dir_save}'\")"
   ]
  },
  {
   "cell_type": "markdown",
   "id": "88d0a08d-6e1b-4e6d-8b95-5a7837b260da",
   "metadata": {},
   "source": [
    "## Models Comparison"
   ]
  },
  {
   "cell_type": "code",
   "execution_count": 5,
   "id": "c524fe9f-90cf-4603-9baf-7b1dbeaff93e",
   "metadata": {},
   "outputs": [],
   "source": [
    "colors = [\n",
    "    palette[1],\n",
    "    palette[2],\n",
    "    palette[-7],\n",
    "    palette[-9],\n",
    "    palette[-1]\n",
    "]"
   ]
  },
  {
   "cell_type": "code",
   "execution_count": 6,
   "id": "066170b9-9e60-4e91-a141-770cf3276fff",
   "metadata": {},
   "outputs": [],
   "source": [
    "models_list = [\n",
    "    'Logistic Regression',\n",
    "    'Random Forest',\n",
    "    'XGBoost',\n",
    "    'LightGBM'\n",
    "]"
   ]
  },
  {
   "cell_type": "code",
   "execution_count": 7,
   "id": "8f249577-ca8d-4651-b99c-1681187b3528",
   "metadata": {},
   "outputs": [],
   "source": [
    "metrics = [\n",
    "    'AUC ROC',\n",
    "    'Average Precision',\n",
    "    'Card Precision@100'\n",
    "]"
   ]
  },
  {
   "cell_type": "markdown",
   "id": "c02fbe6b-9aea-461a-806b-ba65567b8a4b",
   "metadata": {},
   "source": [
    "### Features Selection"
   ]
  },
  {
   "cell_type": "code",
   "execution_count": 8,
   "id": "a0f2d30b-6343-42d3-9bc4-fd9480485967",
   "metadata": {},
   "outputs": [],
   "source": [
    "features = [\n",
    "    'tx_amount', 'tx_during_weekend', 'tx_during_night',\n",
    "    'customer_id_nb_tx_1day_window', 'customer_id_avg_amount_1day_window',\n",
    "    'customer_id_nb_tx_7day_window', 'customer_id_avg_amount_7day_window',\n",
    "    'customer_id_nb_tx_30day_window', 'customer_id_avg_amount_30day_window',\n",
    "    'terminal_id_nb_tx_1day_window', 'terminal_id_risk_1day_window',\n",
    "    'terminal_id_nb_tx_7day_window', 'terminal_id_risk_7day_window',\n",
    "    'terminal_id_nb_tx_30day_window', 'terminal_id_risk_30day_window'\n",
    "]\n",
    "\n",
    "target = 'tx_fraud'"
   ]
  },
  {
   "cell_type": "markdown",
   "id": "97665bd3-970a-4c08-b16c-d9d3b688d066",
   "metadata": {},
   "source": [
    "### Load Baseline Results"
   ]
  },
  {
   "cell_type": "markdown",
   "id": "5a80eb69-e805-45df-ac8c-4133fe52d5b3",
   "metadata": {},
   "source": [
    "#### Models"
   ]
  },
  {
   "cell_type": "code",
   "execution_count": 9,
   "id": "99b09b07-47e8-4cce-b808-0da8644bb966",
   "metadata": {},
   "outputs": [],
   "source": [
    "performance_base = pd.read_pickle(r'_performance_base.pkl')\n",
    "summary_base = pd.read_pickle(r'_summary_base.pkl')\n",
    "time_exec_base = pd.read_pickle(r'_time_exec_base.pkl')"
   ]
  },
  {
   "cell_type": "code",
   "execution_count": 10,
   "id": "8cabaea1-7896-479d-ba9f-c83e44bd3b76",
   "metadata": {},
   "outputs": [],
   "source": [
    "performance_lr_base = performance_base['Logistic Regression']\n",
    "performance_rf_base = performance_base['Random Forest']\n",
    "performance_xgb_base = performance_base['XGBoost']\n",
    "performance_lgb_base = performance_base['LightGBM']\n",
    "\n",
    "exec_time_lr_base = time_exec_base['Logistic Regression']\n",
    "exec_time_rf_base = time_exec_base['Random Forest']\n",
    "exec_time_xgb_base = time_exec_base['XGBoost']\n",
    "exec_time_lgb_base = time_exec_base['LightGBM']"
   ]
  },
  {
   "cell_type": "markdown",
   "id": "91a709dc-6178-4ca0-9626-f7e99fda776f",
   "metadata": {},
   "source": [
    "#### Hyperparameters"
   ]
  },
  {
   "cell_type": "code",
   "execution_count": 11,
   "id": "1c7c3951-3711-4718-bb6f-5a9a154baa4d",
   "metadata": {},
   "outputs": [],
   "source": [
    "hyper_dict = pd.read_pickle(r'_hyperparameters_base.pkl')"
   ]
  },
  {
   "cell_type": "code",
   "execution_count": 12,
   "id": "7f34ea58-1101-4205-a362-02acd6f0090d",
   "metadata": {},
   "outputs": [
    {
     "data": {
      "text/plain": [
       "{'Logistic Regression': {'penalty': 'l2',\n",
       "  'C': 1,\n",
       "  'solver': 'saga',\n",
       "  'max_iter': 5000,\n",
       "  'random_state': 42},\n",
       " 'Random Forest': {'n_estimators': 150, 'max_depth': 25, 'random_state': 42},\n",
       " 'XGBoost': {'n_estimators': 150,\n",
       "  'max_depth': 3,\n",
       "  'learning_rate': 0.1,\n",
       "  'random_state': 42},\n",
       " 'LightGBM': {'n_estimators': 150,\n",
       "  'max_depth': 3,\n",
       "  'learning_rate': 0.1,\n",
       "  'random_state': 42}}"
      ]
     },
     "execution_count": 12,
     "metadata": {},
     "output_type": "execute_result"
    }
   ],
   "source": [
    "hyper_dict"
   ]
  },
  {
   "cell_type": "markdown",
   "id": "c3276d62-f222-4d1b-9fd9-b339a79cbf7f",
   "metadata": {},
   "source": [
    "### Baseline Results"
   ]
  },
  {
   "cell_type": "code",
   "execution_count": 13,
   "id": "6320774c-b4ba-4b7a-8904-40acaa189644",
   "metadata": {},
   "outputs": [],
   "source": [
    "model_performance_list = [\n",
    "    performance_lr_base, performance_rf_base,\n",
    "    performance_xgb_base, performance_lgb_base\n",
    "]"
   ]
  },
  {
   "cell_type": "code",
   "execution_count": 14,
   "id": "04f82232-cb76-4048-bdb4-6c0035817ffb",
   "metadata": {},
   "outputs": [],
   "source": [
    "model_exec_time_list = [\n",
    "    exec_time_lr_base, exec_time_rf_base,\n",
    "    exec_time_xgb_base, exec_time_lgb_base\n",
    "]"
   ]
  },
  {
   "cell_type": "code",
   "execution_count": 15,
   "id": "d8fdacb3-3ef6-4609-9686-a601a5921354",
   "metadata": {},
   "outputs": [],
   "source": [
    "results = results_df_create(\n",
    "    models_list, model_performance_list, model_exec_time_list,\n",
    "    hyper_dict=hyper_dict,\n",
    "    drop_hyper=1\n",
    ")"
   ]
  },
  {
   "cell_type": "code",
   "execution_count": 16,
   "id": "572ec806-f09e-4016-913b-0660e0b7e352",
   "metadata": {},
   "outputs": [
    {
     "data": {
      "text/html": [
       "<div>\n",
       "<style scoped>\n",
       "    .dataframe tbody tr th:only-of-type {\n",
       "        vertical-align: middle;\n",
       "    }\n",
       "\n",
       "    .dataframe tbody tr th {\n",
       "        vertical-align: top;\n",
       "    }\n",
       "\n",
       "    .dataframe thead th {\n",
       "        text-align: right;\n",
       "    }\n",
       "</style>\n",
       "<table border=\"1\" class=\"dataframe\">\n",
       "  <thead>\n",
       "    <tr style=\"text-align: right;\">\n",
       "      <th></th>\n",
       "      <th>Parameters</th>\n",
       "      <th>AUC ROC</th>\n",
       "      <th>AUC ROC Std</th>\n",
       "      <th>Average Precision</th>\n",
       "      <th>Average Precision Std</th>\n",
       "      <th>Card Precision@100</th>\n",
       "      <th>Card Precision@100 Std</th>\n",
       "      <th>Fit Time</th>\n",
       "      <th>Score Time</th>\n",
       "      <th>Tuning Time</th>\n",
       "    </tr>\n",
       "  </thead>\n",
       "  <tbody>\n",
       "    <tr>\n",
       "      <th>Logistic Regression</th>\n",
       "      <td>l2/1/saga/5000</td>\n",
       "      <td>0.876</td>\n",
       "      <td>0.0178</td>\n",
       "      <td>0.614</td>\n",
       "      <td>0.0277</td>\n",
       "      <td>0.296</td>\n",
       "      <td>0.0157</td>\n",
       "      <td>8.967264</td>\n",
       "      <td>0.276532</td>\n",
       "      <td>115.861100</td>\n",
       "    </tr>\n",
       "    <tr>\n",
       "      <th>Random Forest</th>\n",
       "      <td>150/25</td>\n",
       "      <td>0.873</td>\n",
       "      <td>0.0189</td>\n",
       "      <td>0.678</td>\n",
       "      <td>0.0292</td>\n",
       "      <td>0.306</td>\n",
       "      <td>0.0183</td>\n",
       "      <td>85.823851</td>\n",
       "      <td>2.428867</td>\n",
       "      <td>1146.871576</td>\n",
       "    </tr>\n",
       "    <tr>\n",
       "      <th>XGBoost</th>\n",
       "      <td>150/3/0.1</td>\n",
       "      <td>0.875</td>\n",
       "      <td>0.0126</td>\n",
       "      <td>0.692</td>\n",
       "      <td>0.0309</td>\n",
       "      <td>0.306</td>\n",
       "      <td>0.0187</td>\n",
       "      <td>31.603314</td>\n",
       "      <td>0.603654</td>\n",
       "      <td>2261.731898</td>\n",
       "    </tr>\n",
       "    <tr>\n",
       "      <th>LightGBM</th>\n",
       "      <td>150/3/0.1</td>\n",
       "      <td>0.870</td>\n",
       "      <td>0.0120</td>\n",
       "      <td>0.647</td>\n",
       "      <td>0.0269</td>\n",
       "      <td>0.301</td>\n",
       "      <td>0.0163</td>\n",
       "      <td>3.000689</td>\n",
       "      <td>0.721312</td>\n",
       "      <td>288.423400</td>\n",
       "    </tr>\n",
       "  </tbody>\n",
       "</table>\n",
       "</div>"
      ],
      "text/plain": [
       "                         Parameters  AUC ROC  AUC ROC Std  Average Precision  \\\n",
       "Logistic Regression  l2/1/saga/5000    0.876       0.0178              0.614   \n",
       "Random Forest                150/25    0.873       0.0189              0.678   \n",
       "XGBoost                   150/3/0.1    0.875       0.0126              0.692   \n",
       "LightGBM                  150/3/0.1    0.870       0.0120              0.647   \n",
       "\n",
       "                     Average Precision Std  Card Precision@100  \\\n",
       "Logistic Regression                 0.0277               0.296   \n",
       "Random Forest                       0.0292               0.306   \n",
       "XGBoost                             0.0309               0.306   \n",
       "LightGBM                            0.0269               0.301   \n",
       "\n",
       "                     Card Precision@100 Std   Fit Time  Score Time  \\\n",
       "Logistic Regression                  0.0157   8.967264    0.276532   \n",
       "Random Forest                        0.0183  85.823851    2.428867   \n",
       "XGBoost                              0.0187  31.603314    0.603654   \n",
       "LightGBM                             0.0163   3.000689    0.721312   \n",
       "\n",
       "                     Tuning Time  \n",
       "Logistic Regression   115.861100  \n",
       "Random Forest        1146.871576  \n",
       "XGBoost              2261.731898  \n",
       "LightGBM              288.423400  "
      ]
     },
     "execution_count": 16,
     "metadata": {},
     "output_type": "execute_result"
    }
   ],
   "source": [
    "results"
   ]
  },
  {
   "cell_type": "code",
   "execution_count": 17,
   "id": "3072e479-9db1-4c15-9e27-2e4f82470b0b",
   "metadata": {},
   "outputs": [
    {
     "data": {
      "image/png": "[encoded data removed]",
      "text/plain": [
       "<Figure size 1000x250 with 3 Axes>"
      ]
     },
     "metadata": {},
     "output_type": "display_data"
    },
    {
     "name": "stdout",
     "output_type": "stream",
     "text": [
      "\n",
      "Image 'performance_metrics.png' successfully saved into 'img' directory\n"
     ]
    }
   ],
   "source": [
    "plot_metrics(\n",
    "    data=results,\n",
    "    metrics=metrics,\n",
    "    models_list=models_list,\n",
    "    palette=colors,\n",
    "    figsize=(10, 2.5),\n",
    "    limits_list=[[0.800, 0.901, 0.020],\n",
    "                 [0.500, 0.751, 0.050],\n",
    "                 [0.250, 0.341, 0.015]],\n",
    "    save=True,\n",
    "    filename='performance_metrics'\n",
    ");"
   ]
  },
  {
   "cell_type": "markdown",
   "id": "8e668d19-6488-437f-9241-5933658e479f",
   "metadata": {},
   "source": [
    "### ROC and PR Curves - Threshold-based Metrics"
   ]
  },
  {
   "cell_type": "markdown",
   "id": "c9a08202-123d-4769-93b4-db4f2242148f",
   "metadata": {},
   "source": [
    "#### Load Data"
   ]
  },
  {
   "cell_type": "code",
   "execution_count": 18,
   "id": "32655635-9585-423f-a7b1-7511e9b5f5ad",
   "metadata": {},
   "outputs": [],
   "source": [
    "ev_start = '2022-10-17'\n",
    "ev_end = '2022-11-06'"
   ]
  },
  {
   "cell_type": "code",
   "execution_count": 19,
   "id": "a6b445bf-d7cd-49d5-9fa2-ff09f1ee1bdb",
   "metadata": {},
   "outputs": [],
   "source": [
    "data = read_from_files(\n",
    "    DIR_INPUT = './data-transformed/',\n",
    "    BEGIN_DATE = ev_start,\n",
    "    END_DATE = ev_end\n",
    ")"
   ]
  },
  {
   "cell_type": "markdown",
   "id": "ca6d0c3f-a6d8-4491-8760-46b62b102e73",
   "metadata": {},
   "source": [
    "#### Remove Defrauded ID of Train and Delay-1 Period from Test Dataset"
   ]
  },
  {
   "cell_type": "code",
   "execution_count": 20,
   "id": "b9cad8fb-9931-41a0-8720-b663883c80a2",
   "metadata": {},
   "outputs": [],
   "source": [
    "delta = 7\n",
    "\n",
    "ev_start = dt.datetime.strptime('2022-10-17', '%Y-%m-%d')\n",
    "\n",
    "time_train_st = ev_start\n",
    "time_delay_st = time_train_st + dt.timedelta(days=delta)\n",
    "time_test_st = time_train_st + dt.timedelta(days=2*delta)"
   ]
  },
  {
   "cell_type": "code",
   "execution_count": 21,
   "id": "10b8a640-8c13-4d7b-9e24-ca06bb0f70a0",
   "metadata": {},
   "outputs": [
    {
     "data": {
      "text/plain": [
       "(datetime.datetime(2022, 10, 17, 0, 0),\n",
       " datetime.datetime(2022, 10, 24, 0, 0),\n",
       " datetime.datetime(2022, 10, 31, 0, 0))"
      ]
     },
     "execution_count": 21,
     "metadata": {},
     "output_type": "execute_result"
    }
   ],
   "source": [
    "time_train_st, time_delay_st, time_test_st"
   ]
  },
  {
   "cell_type": "code",
   "execution_count": 22,
   "id": "b431f9f7-68cb-4475-b1ea-9d0155192690",
   "metadata": {},
   "outputs": [],
   "source": [
    "train = data.loc[data['tx_datetime'] < time_delay_st, :]\n",
    "delay = data.loc[(data['tx_datetime'] > time_delay_st)\n",
    "                & (data['tx_datetime'] < time_test_st), :]\n",
    "test = data.loc[data['tx_datetime'] > time_test_st, :]"
   ]
  },
  {
   "cell_type": "code",
   "execution_count": 23,
   "id": "07d420b2-7211-4487-9e11-c932a4efcc1a",
   "metadata": {},
   "outputs": [
    {
     "data": {
      "text/plain": [
       "(68154, 23)"
      ]
     },
     "execution_count": 23,
     "metadata": {},
     "output_type": "execute_result"
    }
   ],
   "source": [
    "test.shape"
   ]
  },
  {
   "cell_type": "code",
   "execution_count": 24,
   "id": "91bd3955-5f25-48e8-be0f-7af657ff7e34",
   "metadata": {},
   "outputs": [],
   "source": [
    "day_delay_st = int(delay.loc[delay.index[0], 'tx_time_days'])\n",
    "day_delay_fin = int(delay.loc[delay.index[-1], 'tx_time_days'])"
   ]
  },
  {
   "cell_type": "code",
   "execution_count": 25,
   "id": "f9b1729b-90f4-4685-911c-ce25376dd28d",
   "metadata": {},
   "outputs": [],
   "source": [
    "defrauded_train_df = train.loc[train['tx_fraud']==1, :]\n",
    "defrauded_train_arr = defrauded_train_df['customer_id'].unique()"
   ]
  },
  {
   "cell_type": "code",
   "execution_count": 26,
   "id": "b6640aa0-4b38-471c-a2d6-b66ed531445c",
   "metadata": {},
   "outputs": [],
   "source": [
    "loc = (delay['tx_time_days'].between(day_delay_st, day_delay_fin-1) &\n",
    "       (delay['tx_fraud'] == 1))\n",
    "\n",
    "defrauded_delay_df = delay.loc[loc, :]\n",
    "defrauded_delay_arr = defrauded_delay_df['customer_id'].unique()"
   ]
  },
  {
   "cell_type": "code",
   "execution_count": 27,
   "id": "169e5089-b70c-4004-9bd3-221764d11442",
   "metadata": {},
   "outputs": [],
   "source": [
    "defrauded_arr = np.append(defrauded_train_arr, defrauded_delay_arr)\n",
    "defrauded_arr = np.unique(defrauded_arr)"
   ]
  },
  {
   "cell_type": "code",
   "execution_count": 28,
   "id": "e38f6b98-100a-45a5-83b0-70a6ea43c488",
   "metadata": {},
   "outputs": [
    {
     "data": {
      "text/plain": [
       "array([4978, 4982, 4989, 4990, 4994])"
      ]
     },
     "execution_count": 28,
     "metadata": {},
     "output_type": "execute_result"
    }
   ],
   "source": [
    "defrauded_arr[-5:]"
   ]
  },
  {
   "cell_type": "code",
   "execution_count": 29,
   "id": "671c8b98-d727-4f51-ac8a-dc79fc72624b",
   "metadata": {},
   "outputs": [],
   "source": [
    "test = test.loc[~test['customer_id'].isin(defrauded_arr), :]"
   ]
  },
  {
   "cell_type": "code",
   "execution_count": 30,
   "id": "ed4bc00e-5edf-4bfd-9996-bafe80573a85",
   "metadata": {},
   "outputs": [
    {
     "data": {
      "text/plain": [
       "(57443, 23)"
      ]
     },
     "execution_count": 30,
     "metadata": {},
     "output_type": "execute_result"
    }
   ],
   "source": [
    "test.shape"
   ]
  },
  {
   "cell_type": "markdown",
   "id": "68bf0a15-a929-4814-bbc6-7ea50500bfeb",
   "metadata": {},
   "source": [
    "#### Train-Predict Models for Curves"
   ]
  },
  {
   "cell_type": "code",
   "execution_count": 31,
   "id": "e025fce5-26de-4cbb-91d8-c6787322b1ca",
   "metadata": {},
   "outputs": [],
   "source": [
    "hyper_dict['LightGBM'].update({'verbose':-1})"
   ]
  },
  {
   "cell_type": "code",
   "execution_count": 32,
   "id": "be3b836d-6799-433b-aa12-4bc1dc28a048",
   "metadata": {},
   "outputs": [],
   "source": [
    "lr = LogisticRegression(**hyper_dict['Logistic Regression'])\n",
    "rf = RandomForestClassifier(**hyper_dict['Random Forest'])\n",
    "xgb = XGBClassifier(**hyper_dict['XGBoost'])\n",
    "lgb = LGBMClassifier(**hyper_dict['LightGBM'])"
   ]
  },
  {
   "cell_type": "code",
   "execution_count": 33,
   "id": "b18d21c4-91e1-4cd9-9bc8-ba12b2657f37",
   "metadata": {},
   "outputs": [],
   "source": [
    "lr_pipe = Pipeline([\n",
    "    ('scaler', StandardScaler()),\n",
    "    ('estimator', lr)\n",
    "])"
   ]
  },
  {
   "cell_type": "code",
   "execution_count": 34,
   "id": "b19d1ed8-0a5a-499b-8edf-8ad46d07396c",
   "metadata": {},
   "outputs": [
    {
     "data": {
      "text/html": [
       "<style>#sk-container-id-1 {color: black;}#sk-container-id-1 pre{padding: 0;}#sk-container-id-1 div.sk-toggleable {background-color: white;}#sk-container-id-1 label.sk-toggleable__label {cursor: pointer;display: block;width: 100%;margin-bottom: 0;padding: 0.3em;box-sizing: border-box;text-align: center;}#sk-container-id-1 label.sk-toggleable__label-arrow:before {content: \"▸\";float: left;margin-right: 0.25em;color: #696969;}#sk-container-id-1 label.sk-toggleable__label-arrow:hover:before {color: black;}#sk-container-id-1 div.sk-estimator:hover label.sk-toggleable__label-arrow:before {color: black;}#sk-container-id-1 div.sk-toggleable__content {max-height: 0;max-width: 0;overflow: hidden;text-align: left;background-color: #f0f8ff;}#sk-container-id-1 div.sk-toggleable__content pre {margin: 0.2em;color: black;border-radius: 0.25em;background-color: #f0f8ff;}#sk-container-id-1 input.sk-toggleable__control:checked~div.sk-toggleable__content {max-height: 200px;max-width: 100%;overflow: auto;}#sk-container-id-1 input.sk-toggleable__control:checked~label.sk-toggleable__label-arrow:before {content: \"▾\";}#sk-container-id-1 div.sk-estimator input.sk-toggleable__control:checked~label.sk-toggleable__label {background-color: #d4ebff;}#sk-container-id-1 div.sk-label input.sk-toggleable__control:checked~label.sk-toggleable__label {background-color: #d4ebff;}#sk-container-id-1 input.sk-hidden--visually {border: 0;clip: rect(1px 1px 1px 1px);clip: rect(1px, 1px, 1px, 1px);height: 1px;margin: -1px;overflow: hidden;padding: 0;position: absolute;width: 1px;}#sk-container-id-1 div.sk-estimator {font-family: monospace;background-color: #f0f8ff;border: 1px dotted black;border-radius: 0.25em;box-sizing: border-box;margin-bottom: 0.5em;}#sk-container-id-1 div.sk-estimator:hover {background-color: #d4ebff;}#sk-container-id-1 div.sk-parallel-item::after {content: \"\";width: 100%;border-bottom: 1px solid gray;flex-grow: 1;}#sk-container-id-1 div.sk-label:hover label.sk-toggleable__label {background-color: #d4ebff;}#sk-container-id-1 div.sk-serial::before {content: \"\";position: absolute;border-left: 1px solid gray;box-sizing: border-box;top: 0;bottom: 0;left: 50%;z-index: 0;}#sk-container-id-1 div.sk-serial {display: flex;flex-direction: column;align-items: center;background-color: white;padding-right: 0.2em;padding-left: 0.2em;position: relative;}#sk-container-id-1 div.sk-item {position: relative;z-index: 1;}#sk-container-id-1 div.sk-parallel {display: flex;align-items: stretch;justify-content: center;background-color: white;position: relative;}#sk-container-id-1 div.sk-item::before, #sk-container-id-1 div.sk-parallel-item::before {content: \"\";position: absolute;border-left: 1px solid gray;box-sizing: border-box;top: 0;bottom: 0;left: 50%;z-index: -1;}#sk-container-id-1 div.sk-parallel-item {display: flex;flex-direction: column;z-index: 1;position: relative;background-color: white;}#sk-container-id-1 div.sk-parallel-item:first-child::after {align-self: flex-end;width: 50%;}#sk-container-id-1 div.sk-parallel-item:last-child::after {align-self: flex-start;width: 50%;}#sk-container-id-1 div.sk-parallel-item:only-child::after {width: 0;}#sk-container-id-1 div.sk-dashed-wrapped {border: 1px dashed gray;margin: 0 0.4em 0.5em 0.4em;box-sizing: border-box;padding-bottom: 0.4em;background-color: white;}#sk-container-id-1 div.sk-label label {font-family: monospace;font-weight: bold;display: inline-block;line-height: 1.2em;}#sk-container-id-1 div.sk-label-container {text-align: center;}#sk-container-id-1 div.sk-container {/* jupyter's `normalize.less` sets `[hidden] { display: none; }` but bootstrap.min.css set `[hidden] { display: none !important; }` so we also need the `!important` here to be able to override the default hidden behavior on the sphinx rendered scikit-learn.org. See: https://github.com/scikit-learn/scikit-learn/issues/21755 */display: inline-block !important;position: relative;}#sk-container-id-1 div.sk-text-repr-fallback {display: none;}</style><div id=\"sk-container-id-1\" class=\"sk-top-container\"><div class=\"sk-text-repr-fallback\"><pre>Pipeline(steps=[(&#x27;scaler&#x27;, StandardScaler()),\n",
       "                (&#x27;estimator&#x27;,\n",
       "                 LogisticRegression(C=1, max_iter=5000, random_state=42,\n",
       "                                    solver=&#x27;saga&#x27;))])</pre><b>In a Jupyter environment, please rerun this cell to show the HTML representation or trust the notebook. <br />On GitHub, the HTML representation is unable to render, please try loading this page with nbviewer.org.</b></div><div class=\"sk-container\" hidden><div class=\"sk-item sk-dashed-wrapped\"><div class=\"sk-label-container\"><div class=\"sk-label sk-toggleable\"><input class=\"sk-toggleable__control sk-hidden--visually\" id=\"sk-estimator-id-1\" type=\"checkbox\" ><label for=\"sk-estimator-id-1\" class=\"sk-toggleable__label sk-toggleable__label-arrow\">Pipeline</label><div class=\"sk-toggleable__content\"><pre>Pipeline(steps=[(&#x27;scaler&#x27;, StandardScaler()),\n",
       "                (&#x27;estimator&#x27;,\n",
       "                 LogisticRegression(C=1, max_iter=5000, random_state=42,\n",
       "                                    solver=&#x27;saga&#x27;))])</pre></div></div></div><div class=\"sk-serial\"><div class=\"sk-item\"><div class=\"sk-estimator sk-toggleable\"><input class=\"sk-toggleable__control sk-hidden--visually\" id=\"sk-estimator-id-2\" type=\"checkbox\" ><label for=\"sk-estimator-id-2\" class=\"sk-toggleable__label sk-toggleable__label-arrow\">StandardScaler</label><div class=\"sk-toggleable__content\"><pre>StandardScaler()</pre></div></div></div><div class=\"sk-item\"><div class=\"sk-estimator sk-toggleable\"><input class=\"sk-toggleable__control sk-hidden--visually\" id=\"sk-estimator-id-3\" type=\"checkbox\" ><label for=\"sk-estimator-id-3\" class=\"sk-toggleable__label sk-toggleable__label-arrow\">LogisticRegression</label><div class=\"sk-toggleable__content\"><pre>LogisticRegression(C=1, max_iter=5000, random_state=42, solver=&#x27;saga&#x27;)</pre></div></div></div></div></div></div></div>"
      ],
      "text/plain": [
       "Pipeline(steps=[('scaler', StandardScaler()),\n",
       "                ('estimator',\n",
       "                 LogisticRegression(C=1, max_iter=5000, random_state=42,\n",
       "                                    solver='saga'))])"
      ]
     },
     "execution_count": 34,
     "metadata": {},
     "output_type": "execute_result"
    }
   ],
   "source": [
    "lr_pipe.fit(train[features], train[target])"
   ]
  },
  {
   "cell_type": "code",
   "execution_count": 35,
   "id": "648d9648-de2a-445d-914a-cd54e4dd8a8d",
   "metadata": {},
   "outputs": [],
   "source": [
    "rf_pipe = Pipeline([\n",
    "    ('scaler', StandardScaler()),\n",
    "    ('estimator', rf)\n",
    "])"
   ]
  },
  {
   "cell_type": "code",
   "execution_count": 36,
   "id": "925662c3-009e-4024-85c9-7965111a9ed5",
   "metadata": {},
   "outputs": [
    {
     "data": {
      "text/html": [
       "<style>#sk-container-id-2 {color: black;}#sk-container-id-2 pre{padding: 0;}#sk-container-id-2 div.sk-toggleable {background-color: white;}#sk-container-id-2 label.sk-toggleable__label {cursor: pointer;display: block;width: 100%;margin-bottom: 0;padding: 0.3em;box-sizing: border-box;text-align: center;}#sk-container-id-2 label.sk-toggleable__label-arrow:before {content: \"▸\";float: left;margin-right: 0.25em;color: #696969;}#sk-container-id-2 label.sk-toggleable__label-arrow:hover:before {color: black;}#sk-container-id-2 div.sk-estimator:hover label.sk-toggleable__label-arrow:before {color: black;}#sk-container-id-2 div.sk-toggleable__content {max-height: 0;max-width: 0;overflow: hidden;text-align: left;background-color: #f0f8ff;}#sk-container-id-2 div.sk-toggleable__content pre {margin: 0.2em;color: black;border-radius: 0.25em;background-color: #f0f8ff;}#sk-container-id-2 input.sk-toggleable__control:checked~div.sk-toggleable__content {max-height: 200px;max-width: 100%;overflow: auto;}#sk-container-id-2 input.sk-toggleable__control:checked~label.sk-toggleable__label-arrow:before {content: \"▾\";}#sk-container-id-2 div.sk-estimator input.sk-toggleable__control:checked~label.sk-toggleable__label {background-color: #d4ebff;}#sk-container-id-2 div.sk-label input.sk-toggleable__control:checked~label.sk-toggleable__label {background-color: #d4ebff;}#sk-container-id-2 input.sk-hidden--visually {border: 0;clip: rect(1px 1px 1px 1px);clip: rect(1px, 1px, 1px, 1px);height: 1px;margin: -1px;overflow: hidden;padding: 0;position: absolute;width: 1px;}#sk-container-id-2 div.sk-estimator {font-family: monospace;background-color: #f0f8ff;border: 1px dotted black;border-radius: 0.25em;box-sizing: border-box;margin-bottom: 0.5em;}#sk-container-id-2 div.sk-estimator:hover {background-color: #d4ebff;}#sk-container-id-2 div.sk-parallel-item::after {content: \"\";width: 100%;border-bottom: 1px solid gray;flex-grow: 1;}#sk-container-id-2 div.sk-label:hover label.sk-toggleable__label {background-color: #d4ebff;}#sk-container-id-2 div.sk-serial::before {content: \"\";position: absolute;border-left: 1px solid gray;box-sizing: border-box;top: 0;bottom: 0;left: 50%;z-index: 0;}#sk-container-id-2 div.sk-serial {display: flex;flex-direction: column;align-items: center;background-color: white;padding-right: 0.2em;padding-left: 0.2em;position: relative;}#sk-container-id-2 div.sk-item {position: relative;z-index: 1;}#sk-container-id-2 div.sk-parallel {display: flex;align-items: stretch;justify-content: center;background-color: white;position: relative;}#sk-container-id-2 div.sk-item::before, #sk-container-id-2 div.sk-parallel-item::before {content: \"\";position: absolute;border-left: 1px solid gray;box-sizing: border-box;top: 0;bottom: 0;left: 50%;z-index: -1;}#sk-container-id-2 div.sk-parallel-item {display: flex;flex-direction: column;z-index: 1;position: relative;background-color: white;}#sk-container-id-2 div.sk-parallel-item:first-child::after {align-self: flex-end;width: 50%;}#sk-container-id-2 div.sk-parallel-item:last-child::after {align-self: flex-start;width: 50%;}#sk-container-id-2 div.sk-parallel-item:only-child::after {width: 0;}#sk-container-id-2 div.sk-dashed-wrapped {border: 1px dashed gray;margin: 0 0.4em 0.5em 0.4em;box-sizing: border-box;padding-bottom: 0.4em;background-color: white;}#sk-container-id-2 div.sk-label label {font-family: monospace;font-weight: bold;display: inline-block;line-height: 1.2em;}#sk-container-id-2 div.sk-label-container {text-align: center;}#sk-container-id-2 div.sk-container {/* jupyter's `normalize.less` sets `[hidden] { display: none; }` but bootstrap.min.css set `[hidden] { display: none !important; }` so we also need the `!important` here to be able to override the default hidden behavior on the sphinx rendered scikit-learn.org. See: https://github.com/scikit-learn/scikit-learn/issues/21755 */display: inline-block !important;position: relative;}#sk-container-id-2 div.sk-text-repr-fallback {display: none;}</style><div id=\"sk-container-id-2\" class=\"sk-top-container\"><div class=\"sk-text-repr-fallback\"><pre>Pipeline(steps=[(&#x27;scaler&#x27;, StandardScaler()),\n",
       "                (&#x27;estimator&#x27;,\n",
       "                 RandomForestClassifier(max_depth=25, n_estimators=150,\n",
       "                                        random_state=42))])</pre><b>In a Jupyter environment, please rerun this cell to show the HTML representation or trust the notebook. <br />On GitHub, the HTML representation is unable to render, please try loading this page with nbviewer.org.</b></div><div class=\"sk-container\" hidden><div class=\"sk-item sk-dashed-wrapped\"><div class=\"sk-label-container\"><div class=\"sk-label sk-toggleable\"><input class=\"sk-toggleable__control sk-hidden--visually\" id=\"sk-estimator-id-4\" type=\"checkbox\" ><label for=\"sk-estimator-id-4\" class=\"sk-toggleable__label sk-toggleable__label-arrow\">Pipeline</label><div class=\"sk-toggleable__content\"><pre>Pipeline(steps=[(&#x27;scaler&#x27;, StandardScaler()),\n",
       "                (&#x27;estimator&#x27;,\n",
       "                 RandomForestClassifier(max_depth=25, n_estimators=150,\n",
       "                                        random_state=42))])</pre></div></div></div><div class=\"sk-serial\"><div class=\"sk-item\"><div class=\"sk-estimator sk-toggleable\"><input class=\"sk-toggleable__control sk-hidden--visually\" id=\"sk-estimator-id-5\" type=\"checkbox\" ><label for=\"sk-estimator-id-5\" class=\"sk-toggleable__label sk-toggleable__label-arrow\">StandardScaler</label><div class=\"sk-toggleable__content\"><pre>StandardScaler()</pre></div></div></div><div class=\"sk-item\"><div class=\"sk-estimator sk-toggleable\"><input class=\"sk-toggleable__control sk-hidden--visually\" id=\"sk-estimator-id-6\" type=\"checkbox\" ><label for=\"sk-estimator-id-6\" class=\"sk-toggleable__label sk-toggleable__label-arrow\">RandomForestClassifier</label><div class=\"sk-toggleable__content\"><pre>RandomForestClassifier(max_depth=25, n_estimators=150, random_state=42)</pre></div></div></div></div></div></div></div>"
      ],
      "text/plain": [
       "Pipeline(steps=[('scaler', StandardScaler()),\n",
       "                ('estimator',\n",
       "                 RandomForestClassifier(max_depth=25, n_estimators=150,\n",
       "                                        random_state=42))])"
      ]
     },
     "execution_count": 36,
     "metadata": {},
     "output_type": "execute_result"
    }
   ],
   "source": [
    "rf_pipe.fit(train[features], train[target])"
   ]
  },
  {
   "cell_type": "code",
   "execution_count": 37,
   "id": "dfc749e6-c925-4edd-8133-1753ae9bc508",
   "metadata": {},
   "outputs": [],
   "source": [
    "xgb_pipe = Pipeline([\n",
    "    ('scaler', StandardScaler()),\n",
    "    ('estimator', xgb)\n",
    "])"
   ]
  },
  {
   "cell_type": "code",
   "execution_count": 38,
   "id": "fe861a66-0aed-4b58-8c48-67de2b8680e0",
   "metadata": {},
   "outputs": [
    {
     "data": {
      "text/html": [
       "<style>#sk-container-id-3 {color: black;}#sk-container-id-3 pre{padding: 0;}#sk-container-id-3 div.sk-toggleable {background-color: white;}#sk-container-id-3 label.sk-toggleable__label {cursor: pointer;display: block;width: 100%;margin-bottom: 0;padding: 0.3em;box-sizing: border-box;text-align: center;}#sk-container-id-3 label.sk-toggleable__label-arrow:before {content: \"▸\";float: left;margin-right: 0.25em;color: #696969;}#sk-container-id-3 label.sk-toggleable__label-arrow:hover:before {color: black;}#sk-container-id-3 div.sk-estimator:hover label.sk-toggleable__label-arrow:before {color: black;}#sk-container-id-3 div.sk-toggleable__content {max-height: 0;max-width: 0;overflow: hidden;text-align: left;background-color: #f0f8ff;}#sk-container-id-3 div.sk-toggleable__content pre {margin: 0.2em;color: black;border-radius: 0.25em;background-color: #f0f8ff;}#sk-container-id-3 input.sk-toggleable__control:checked~div.sk-toggleable__content {max-height: 200px;max-width: 100%;overflow: auto;}#sk-container-id-3 input.sk-toggleable__control:checked~label.sk-toggleable__label-arrow:before {content: \"▾\";}#sk-container-id-3 div.sk-estimator input.sk-toggleable__control:checked~label.sk-toggleable__label {background-color: #d4ebff;}#sk-container-id-3 div.sk-label input.sk-toggleable__control:checked~label.sk-toggleable__label {background-color: #d4ebff;}#sk-container-id-3 input.sk-hidden--visually {border: 0;clip: rect(1px 1px 1px 1px);clip: rect(1px, 1px, 1px, 1px);height: 1px;margin: -1px;overflow: hidden;padding: 0;position: absolute;width: 1px;}#sk-container-id-3 div.sk-estimator {font-family: monospace;background-color: #f0f8ff;border: 1px dotted black;border-radius: 0.25em;box-sizing: border-box;margin-bottom: 0.5em;}#sk-container-id-3 div.sk-estimator:hover {background-color: #d4ebff;}#sk-container-id-3 div.sk-parallel-item::after {content: \"\";width: 100%;border-bottom: 1px solid gray;flex-grow: 1;}#sk-container-id-3 div.sk-label:hover label.sk-toggleable__label {background-color: #d4ebff;}#sk-container-id-3 div.sk-serial::before {content: \"\";position: absolute;border-left: 1px solid gray;box-sizing: border-box;top: 0;bottom: 0;left: 50%;z-index: 0;}#sk-container-id-3 div.sk-serial {display: flex;flex-direction: column;align-items: center;background-color: white;padding-right: 0.2em;padding-left: 0.2em;position: relative;}#sk-container-id-3 div.sk-item {position: relative;z-index: 1;}#sk-container-id-3 div.sk-parallel {display: flex;align-items: stretch;justify-content: center;background-color: white;position: relative;}#sk-container-id-3 div.sk-item::before, #sk-container-id-3 div.sk-parallel-item::before {content: \"\";position: absolute;border-left: 1px solid gray;box-sizing: border-box;top: 0;bottom: 0;left: 50%;z-index: -1;}#sk-container-id-3 div.sk-parallel-item {display: flex;flex-direction: column;z-index: 1;position: relative;background-color: white;}#sk-container-id-3 div.sk-parallel-item:first-child::after {align-self: flex-end;width: 50%;}#sk-container-id-3 div.sk-parallel-item:last-child::after {align-self: flex-start;width: 50%;}#sk-container-id-3 div.sk-parallel-item:only-child::after {width: 0;}#sk-container-id-3 div.sk-dashed-wrapped {border: 1px dashed gray;margin: 0 0.4em 0.5em 0.4em;box-sizing: border-box;padding-bottom: 0.4em;background-color: white;}#sk-container-id-3 div.sk-label label {font-family: monospace;font-weight: bold;display: inline-block;line-height: 1.2em;}#sk-container-id-3 div.sk-label-container {text-align: center;}#sk-container-id-3 div.sk-container {/* jupyter's `normalize.less` sets `[hidden] { display: none; }` but bootstrap.min.css set `[hidden] { display: none !important; }` so we also need the `!important` here to be able to override the default hidden behavior on the sphinx rendered scikit-learn.org. See: https://github.com/scikit-learn/scikit-learn/issues/21755 */display: inline-block !important;position: relative;}#sk-container-id-3 div.sk-text-repr-fallback {display: none;}</style><div id=\"sk-container-id-3\" class=\"sk-top-container\"><div class=\"sk-text-repr-fallback\"><pre>Pipeline(steps=[(&#x27;scaler&#x27;, StandardScaler()),\n",
       "                (&#x27;estimator&#x27;,\n",
       "                 XGBClassifier(base_score=None, booster=None, callbacks=None,\n",
       "                               colsample_bylevel=None, colsample_bynode=None,\n",
       "                               colsample_bytree=None,\n",
       "                               early_stopping_rounds=None,\n",
       "                               enable_categorical=False, eval_metric=None,\n",
       "                               feature_types=None, gamma=None, gpu_id=None,\n",
       "                               grow_policy=None, importance_type=None,\n",
       "                               interaction_constraints=None, learning_rate=0.1,\n",
       "                               max_bin=None, max_cat_threshold=None,\n",
       "                               max_cat_to_onehot=None, max_delta_step=None,\n",
       "                               max_depth=3, max_leaves=None,\n",
       "                               min_child_weight=None, missing=nan,\n",
       "                               monotone_constraints=None, n_estimators=150,\n",
       "                               n_jobs=None, num_parallel_tree=None,\n",
       "                               predictor=None, random_state=42, ...))])</pre><b>In a Jupyter environment, please rerun this cell to show the HTML representation or trust the notebook. <br />On GitHub, the HTML representation is unable to render, please try loading this page with nbviewer.org.</b></div><div class=\"sk-container\" hidden><div class=\"sk-item sk-dashed-wrapped\"><div class=\"sk-label-container\"><div class=\"sk-label sk-toggleable\"><input class=\"sk-toggleable__control sk-hidden--visually\" id=\"sk-estimator-id-7\" type=\"checkbox\" ><label for=\"sk-estimator-id-7\" class=\"sk-toggleable__label sk-toggleable__label-arrow\">Pipeline</label><div class=\"sk-toggleable__content\"><pre>Pipeline(steps=[(&#x27;scaler&#x27;, StandardScaler()),\n",
       "                (&#x27;estimator&#x27;,\n",
       "                 XGBClassifier(base_score=None, booster=None, callbacks=None,\n",
       "                               colsample_bylevel=None, colsample_bynode=None,\n",
       "                               colsample_bytree=None,\n",
       "                               early_stopping_rounds=None,\n",
       "                               enable_categorical=False, eval_metric=None,\n",
       "                               feature_types=None, gamma=None, gpu_id=None,\n",
       "                               grow_policy=None, importance_type=None,\n",
       "                               interaction_constraints=None, learning_rate=0.1,\n",
       "                               max_bin=None, max_cat_threshold=None,\n",
       "                               max_cat_to_onehot=None, max_delta_step=None,\n",
       "                               max_depth=3, max_leaves=None,\n",
       "                               min_child_weight=None, missing=nan,\n",
       "                               monotone_constraints=None, n_estimators=150,\n",
       "                               n_jobs=None, num_parallel_tree=None,\n",
       "                               predictor=None, random_state=42, ...))])</pre></div></div></div><div class=\"sk-serial\"><div class=\"sk-item\"><div class=\"sk-estimator sk-toggleable\"><input class=\"sk-toggleable__control sk-hidden--visually\" id=\"sk-estimator-id-8\" type=\"checkbox\" ><label for=\"sk-estimator-id-8\" class=\"sk-toggleable__label sk-toggleable__label-arrow\">StandardScaler</label><div class=\"sk-toggleable__content\"><pre>StandardScaler()</pre></div></div></div><div class=\"sk-item\"><div class=\"sk-estimator sk-toggleable\"><input class=\"sk-toggleable__control sk-hidden--visually\" id=\"sk-estimator-id-9\" type=\"checkbox\" ><label for=\"sk-estimator-id-9\" class=\"sk-toggleable__label sk-toggleable__label-arrow\">XGBClassifier</label><div class=\"sk-toggleable__content\"><pre>XGBClassifier(base_score=None, booster=None, callbacks=None,\n",
       "              colsample_bylevel=None, colsample_bynode=None,\n",
       "              colsample_bytree=None, early_stopping_rounds=None,\n",
       "              enable_categorical=False, eval_metric=None, feature_types=None,\n",
       "              gamma=None, gpu_id=None, grow_policy=None, importance_type=None,\n",
       "              interaction_constraints=None, learning_rate=0.1, max_bin=None,\n",
       "              max_cat_threshold=None, max_cat_to_onehot=None,\n",
       "              max_delta_step=None, max_depth=3, max_leaves=None,\n",
       "              min_child_weight=None, missing=nan, monotone_constraints=None,\n",
       "              n_estimators=150, n_jobs=None, num_parallel_tree=None,\n",
       "              predictor=None, random_state=42, ...)</pre></div></div></div></div></div></div></div>"
      ],
      "text/plain": [
       "Pipeline(steps=[('scaler', StandardScaler()),\n",
       "                ('estimator',\n",
       "                 XGBClassifier(base_score=None, booster=None, callbacks=None,\n",
       "                               colsample_bylevel=None, colsample_bynode=None,\n",
       "                               colsample_bytree=None,\n",
       "                               early_stopping_rounds=None,\n",
       "                               enable_categorical=False, eval_metric=None,\n",
       "                               feature_types=None, gamma=None, gpu_id=None,\n",
       "                               grow_policy=None, importance_type=None,\n",
       "                               interaction_constraints=None, learning_rate=0.1,\n",
       "                               max_bin=None, max_cat_threshold=None,\n",
       "                               max_cat_to_onehot=None, max_delta_step=None,\n",
       "                               max_depth=3, max_leaves=None,\n",
       "                               min_child_weight=None, missing=nan,\n",
       "                               monotone_constraints=None, n_estimators=150,\n",
       "                               n_jobs=None, num_parallel_tree=None,\n",
       "                               predictor=None, random_state=42, ...))])"
      ]
     },
     "execution_count": 38,
     "metadata": {},
     "output_type": "execute_result"
    }
   ],
   "source": [
    "xgb_pipe.fit(train[features], train[target])"
   ]
  },
  {
   "cell_type": "code",
   "execution_count": 39,
   "id": "179988f1-cd64-4249-bb6b-ecb2d9a85703",
   "metadata": {},
   "outputs": [],
   "source": [
    "lgb_pipe = Pipeline([\n",
    "    ('scaler', StandardScaler()),\n",
    "    ('estimator', lgb)\n",
    "])"
   ]
  },
  {
   "cell_type": "code",
   "execution_count": 40,
   "id": "a68f0fd6-b8e2-4a82-8408-7e11081560eb",
   "metadata": {},
   "outputs": [
    {
     "data": {
      "text/html": [
       "<style>#sk-container-id-4 {color: black;}#sk-container-id-4 pre{padding: 0;}#sk-container-id-4 div.sk-toggleable {background-color: white;}#sk-container-id-4 label.sk-toggleable__label {cursor: pointer;display: block;width: 100%;margin-bottom: 0;padding: 0.3em;box-sizing: border-box;text-align: center;}#sk-container-id-4 label.sk-toggleable__label-arrow:before {content: \"▸\";float: left;margin-right: 0.25em;color: #696969;}#sk-container-id-4 label.sk-toggleable__label-arrow:hover:before {color: black;}#sk-container-id-4 div.sk-estimator:hover label.sk-toggleable__label-arrow:before {color: black;}#sk-container-id-4 div.sk-toggleable__content {max-height: 0;max-width: 0;overflow: hidden;text-align: left;background-color: #f0f8ff;}#sk-container-id-4 div.sk-toggleable__content pre {margin: 0.2em;color: black;border-radius: 0.25em;background-color: #f0f8ff;}#sk-container-id-4 input.sk-toggleable__control:checked~div.sk-toggleable__content {max-height: 200px;max-width: 100%;overflow: auto;}#sk-container-id-4 input.sk-toggleable__control:checked~label.sk-toggleable__label-arrow:before {content: \"▾\";}#sk-container-id-4 div.sk-estimator input.sk-toggleable__control:checked~label.sk-toggleable__label {background-color: #d4ebff;}#sk-container-id-4 div.sk-label input.sk-toggleable__control:checked~label.sk-toggleable__label {background-color: #d4ebff;}#sk-container-id-4 input.sk-hidden--visually {border: 0;clip: rect(1px 1px 1px 1px);clip: rect(1px, 1px, 1px, 1px);height: 1px;margin: -1px;overflow: hidden;padding: 0;position: absolute;width: 1px;}#sk-container-id-4 div.sk-estimator {font-family: monospace;background-color: #f0f8ff;border: 1px dotted black;border-radius: 0.25em;box-sizing: border-box;margin-bottom: 0.5em;}#sk-container-id-4 div.sk-estimator:hover {background-color: #d4ebff;}#sk-container-id-4 div.sk-parallel-item::after {content: \"\";width: 100%;border-bottom: 1px solid gray;flex-grow: 1;}#sk-container-id-4 div.sk-label:hover label.sk-toggleable__label {background-color: #d4ebff;}#sk-container-id-4 div.sk-serial::before {content: \"\";position: absolute;border-left: 1px solid gray;box-sizing: border-box;top: 0;bottom: 0;left: 50%;z-index: 0;}#sk-container-id-4 div.sk-serial {display: flex;flex-direction: column;align-items: center;background-color: white;padding-right: 0.2em;padding-left: 0.2em;position: relative;}#sk-container-id-4 div.sk-item {position: relative;z-index: 1;}#sk-container-id-4 div.sk-parallel {display: flex;align-items: stretch;justify-content: center;background-color: white;position: relative;}#sk-container-id-4 div.sk-item::before, #sk-container-id-4 div.sk-parallel-item::before {content: \"\";position: absolute;border-left: 1px solid gray;box-sizing: border-box;top: 0;bottom: 0;left: 50%;z-index: -1;}#sk-container-id-4 div.sk-parallel-item {display: flex;flex-direction: column;z-index: 1;position: relative;background-color: white;}#sk-container-id-4 div.sk-parallel-item:first-child::after {align-self: flex-end;width: 50%;}#sk-container-id-4 div.sk-parallel-item:last-child::after {align-self: flex-start;width: 50%;}#sk-container-id-4 div.sk-parallel-item:only-child::after {width: 0;}#sk-container-id-4 div.sk-dashed-wrapped {border: 1px dashed gray;margin: 0 0.4em 0.5em 0.4em;box-sizing: border-box;padding-bottom: 0.4em;background-color: white;}#sk-container-id-4 div.sk-label label {font-family: monospace;font-weight: bold;display: inline-block;line-height: 1.2em;}#sk-container-id-4 div.sk-label-container {text-align: center;}#sk-container-id-4 div.sk-container {/* jupyter's `normalize.less` sets `[hidden] { display: none; }` but bootstrap.min.css set `[hidden] { display: none !important; }` so we also need the `!important` here to be able to override the default hidden behavior on the sphinx rendered scikit-learn.org. See: https://github.com/scikit-learn/scikit-learn/issues/21755 */display: inline-block !important;position: relative;}#sk-container-id-4 div.sk-text-repr-fallback {display: none;}</style><div id=\"sk-container-id-4\" class=\"sk-top-container\"><div class=\"sk-text-repr-fallback\"><pre>Pipeline(steps=[(&#x27;scaler&#x27;, StandardScaler()),\n",
       "                (&#x27;estimator&#x27;,\n",
       "                 LGBMClassifier(max_depth=3, n_estimators=150, random_state=42,\n",
       "                                verbose=-1))])</pre><b>In a Jupyter environment, please rerun this cell to show the HTML representation or trust the notebook. <br />On GitHub, the HTML representation is unable to render, please try loading this page with nbviewer.org.</b></div><div class=\"sk-container\" hidden><div class=\"sk-item sk-dashed-wrapped\"><div class=\"sk-label-container\"><div class=\"sk-label sk-toggleable\"><input class=\"sk-toggleable__control sk-hidden--visually\" id=\"sk-estimator-id-10\" type=\"checkbox\" ><label for=\"sk-estimator-id-10\" class=\"sk-toggleable__label sk-toggleable__label-arrow\">Pipeline</label><div class=\"sk-toggleable__content\"><pre>Pipeline(steps=[(&#x27;scaler&#x27;, StandardScaler()),\n",
       "                (&#x27;estimator&#x27;,\n",
       "                 LGBMClassifier(max_depth=3, n_estimators=150, random_state=42,\n",
       "                                verbose=-1))])</pre></div></div></div><div class=\"sk-serial\"><div class=\"sk-item\"><div class=\"sk-estimator sk-toggleable\"><input class=\"sk-toggleable__control sk-hidden--visually\" id=\"sk-estimator-id-11\" type=\"checkbox\" ><label for=\"sk-estimator-id-11\" class=\"sk-toggleable__label sk-toggleable__label-arrow\">StandardScaler</label><div class=\"sk-toggleable__content\"><pre>StandardScaler()</pre></div></div></div><div class=\"sk-item\"><div class=\"sk-estimator sk-toggleable\"><input class=\"sk-toggleable__control sk-hidden--visually\" id=\"sk-estimator-id-12\" type=\"checkbox\" ><label for=\"sk-estimator-id-12\" class=\"sk-toggleable__label sk-toggleable__label-arrow\">LGBMClassifier</label><div class=\"sk-toggleable__content\"><pre>LGBMClassifier(max_depth=3, n_estimators=150, random_state=42, verbose=-1)</pre></div></div></div></div></div></div></div>"
      ],
      "text/plain": [
       "Pipeline(steps=[('scaler', StandardScaler()),\n",
       "                ('estimator',\n",
       "                 LGBMClassifier(max_depth=3, n_estimators=150, random_state=42,\n",
       "                                verbose=-1))])"
      ]
     },
     "execution_count": 40,
     "metadata": {},
     "output_type": "execute_result"
    }
   ],
   "source": [
    "lgb_pipe.fit(train[features], train[target])"
   ]
  },
  {
   "cell_type": "code",
   "execution_count": 41,
   "id": "dea47a27-f6e9-41a9-94a8-28e7ac6be6b0",
   "metadata": {},
   "outputs": [],
   "source": [
    "y_true = test['tx_fraud'].values"
   ]
  },
  {
   "cell_type": "code",
   "execution_count": 42,
   "id": "a3a93f70-7886-4ef9-bbb1-c55854433b93",
   "metadata": {},
   "outputs": [],
   "source": [
    "lr_score = lr_pipe.predict(test[features])\n",
    "rf_score = rf_pipe.predict(test[features])\n",
    "xgb_score = xgb_pipe.predict(test[features])\n",
    "lgb_score = lgb_pipe.predict(test[features])"
   ]
  },
  {
   "cell_type": "code",
   "execution_count": 43,
   "id": "6476da6c-acea-4828-96a1-d0d424c645b0",
   "metadata": {},
   "outputs": [],
   "source": [
    "lr_score_prob = lr_pipe.predict_proba(test[features])\n",
    "rf_score_prob = rf_pipe.predict_proba(test[features])\n",
    "xgb_score_prob = xgb_pipe.predict_proba(test[features])\n",
    "lgb_score_prob = lgb_pipe.predict_proba(test[features])"
   ]
  },
  {
   "cell_type": "markdown",
   "id": "a879555d-ee84-43fe-a6a4-a56bc2f9775b",
   "metadata": {},
   "source": [
    "#### Curves"
   ]
  },
  {
   "cell_type": "code",
   "execution_count": 44,
   "id": "1237a3c9-b1b6-4238-b88e-3ab5d4c68395",
   "metadata": {},
   "outputs": [],
   "source": [
    "y_score_prob_list = [\n",
    "    lr_score_prob[:, 1], rf_score_prob[:, 1],\n",
    "    xgb_score_prob[:, 1], lgb_score_prob[:, 1]\n",
    "]"
   ]
  },
  {
   "cell_type": "code",
   "execution_count": 184,
   "id": "d238050d-46c4-47ec-bded-dc85a962f402",
   "metadata": {},
   "outputs": [
    {
     "data": {
      "image/png": "[encoded data removed]",
      "text/plain": [
       "<Figure size 700x300 with 1 Axes>"
      ]
     },
     "metadata": {},
     "output_type": "display_data"
    },
    {
     "name": "stdout",
     "output_type": "stream",
     "text": [
      "\n",
      "Image 'roc_curve.png' successfully saved into 'img' directory\n"
     ]
    }
   ],
   "source": [
    "plot_roc_curve(\n",
    "    y_true, y_score_prob_list, models_list, (7, 3),\n",
    "    colors, save=True, filename='roc_curve'\n",
    ")"
   ]
  },
  {
   "cell_type": "code",
   "execution_count": 185,
   "id": "9344c673-fcd8-4b84-a791-14a8884da9be",
   "metadata": {},
   "outputs": [
    {
     "data": {
      "image/png": "[encoded data removed]",
      "text/plain": [
       "<Figure size 700x300 with 1 Axes>"
      ]
     },
     "metadata": {},
     "output_type": "display_data"
    },
    {
     "name": "stdout",
     "output_type": "stream",
     "text": [
      "\n",
      "Image 'pr_curve.png' successfully saved into 'img' directory\n"
     ]
    }
   ],
   "source": [
    "threshold_opt_list = plot_prec_rec(\n",
    "    y_true, y_score_prob_list, models_list, (7, 3),\n",
    "    colors, save=True, filename='pr_curve')"
   ]
  },
  {
   "cell_type": "markdown",
   "id": "ac5e0359-6b3b-4c61-befe-94f1846cdcf1",
   "metadata": {},
   "source": [
    "#### Threshold"
   ]
  },
  {
   "cell_type": "code",
   "execution_count": 47,
   "id": "875a0cb2-8a55-42f9-8f25-f4894e1aa282",
   "metadata": {},
   "outputs": [],
   "source": [
    "threshold_opt_df = pd.DataFrame(\n",
    "    columns={\n",
    "        'index': [],\n",
    "        'Precision': [],\n",
    "        'Recall': [],\n",
    "        'Threshold': []\n",
    "    }\n",
    ")\n",
    "\n",
    "for i, j in zip(models_list, threshold_opt_list):\n",
    "    \n",
    "    threshold_opt_df.loc[len(threshold_opt_df)] = [i] + j\n",
    "\n",
    "threshold_opt_df = threshold_opt_df.set_index('index', drop=True)\n",
    "threshold_opt_df.index.name = None"
   ]
  },
  {
   "cell_type": "code",
   "execution_count": 48,
   "id": "4148c548-5242-475d-bdf5-6a19fd5f9959",
   "metadata": {},
   "outputs": [
    {
     "data": {
      "text/html": [
       "<div>\n",
       "<style scoped>\n",
       "    .dataframe tbody tr th:only-of-type {\n",
       "        vertical-align: middle;\n",
       "    }\n",
       "\n",
       "    .dataframe tbody tr th {\n",
       "        vertical-align: top;\n",
       "    }\n",
       "\n",
       "    .dataframe thead th {\n",
       "        text-align: right;\n",
       "    }\n",
       "</style>\n",
       "<table border=\"1\" class=\"dataframe\">\n",
       "  <thead>\n",
       "    <tr style=\"text-align: right;\">\n",
       "      <th></th>\n",
       "      <th>Precision</th>\n",
       "      <th>Recall</th>\n",
       "      <th>Threshold</th>\n",
       "    </tr>\n",
       "  </thead>\n",
       "  <tbody>\n",
       "    <tr>\n",
       "      <th>Logistic Regression</th>\n",
       "      <td>0.81</td>\n",
       "      <td>0.60</td>\n",
       "      <td>0.19</td>\n",
       "    </tr>\n",
       "    <tr>\n",
       "      <th>Random Forest</th>\n",
       "      <td>0.94</td>\n",
       "      <td>0.60</td>\n",
       "      <td>0.39</td>\n",
       "    </tr>\n",
       "    <tr>\n",
       "      <th>XGBoost</th>\n",
       "      <td>0.96</td>\n",
       "      <td>0.60</td>\n",
       "      <td>0.49</td>\n",
       "    </tr>\n",
       "    <tr>\n",
       "      <th>LightGBM</th>\n",
       "      <td>0.72</td>\n",
       "      <td>0.57</td>\n",
       "      <td>0.30</td>\n",
       "    </tr>\n",
       "  </tbody>\n",
       "</table>\n",
       "</div>"
      ],
      "text/plain": [
       "                     Precision  Recall  Threshold\n",
       "Logistic Regression       0.81    0.60       0.19\n",
       "Random Forest             0.94    0.60       0.39\n",
       "XGBoost                   0.96    0.60       0.49\n",
       "LightGBM                  0.72    0.57       0.30"
      ]
     },
     "execution_count": 48,
     "metadata": {},
     "output_type": "execute_result"
    }
   ],
   "source": [
    "# по F1-score\n",
    "threshold_opt_df"
   ]
  },
  {
   "cell_type": "code",
   "execution_count": 49,
   "id": "86233abf-39a3-4df5-86f3-d0e89c83d19d",
   "metadata": {},
   "outputs": [],
   "source": [
    "threshold_xgb_opt = threshold_opt_df.loc['XGBoost', 'Threshold']"
   ]
  },
  {
   "cell_type": "code",
   "execution_count": 50,
   "id": "2ece4c46-70fd-4857-8ca0-5d7f7988941f",
   "metadata": {},
   "outputs": [],
   "source": [
    "xgb_score_opt = (xgb_score_prob[:, 1] >= threshold_xgb_opt)"
   ]
  },
  {
   "cell_type": "code",
   "execution_count": 51,
   "id": "618a74b8-d9d7-49d4-b863-89da92119147",
   "metadata": {},
   "outputs": [
    {
     "data": {
      "image/png": "[encoded data removed]",
      "text/plain": [
       "<Figure size 400x200 with 1 Axes>"
      ]
     },
     "metadata": {},
     "output_type": "display_data"
    },
    {
     "name": "stdout",
     "output_type": "stream",
     "text": [
      "\n",
      "Image 'confmatrix_xgb_thresh.png' successfully saved into 'img' directory\n"
     ]
    }
   ],
   "source": [
    "conf_xgb = conf_matrix(\n",
    "               y_true,\n",
    "               xgb_score_opt,\n",
    "               save=True,\n",
    "               filename='confmatrix_xgb_thresh'\n",
    "           )"
   ]
  },
  {
   "cell_type": "code",
   "execution_count": 52,
   "id": "28af45f2-7d33-4b8d-bfeb-db1e957be1e5",
   "metadata": {},
   "outputs": [
    {
     "data": {
      "text/plain": [
       "(57053, 9, 154, 227)"
      ]
     },
     "execution_count": 52,
     "metadata": {},
     "output_type": "execute_result"
    }
   ],
   "source": [
    "conf_xgb"
   ]
  },
  {
   "cell_type": "code",
   "execution_count": 53,
   "id": "04989b19-cc74-4a10-a8be-7820e406b3ae",
   "metadata": {},
   "outputs": [
    {
     "data": {
      "text/plain": [
       "57443"
      ]
     },
     "execution_count": 53,
     "metadata": {},
     "output_type": "execute_result"
    }
   ],
   "source": [
    "sum(conf_xgb)"
   ]
  },
  {
   "cell_type": "code",
   "execution_count": 54,
   "id": "27dbdaf9-e52b-4933-9eaf-a35f4e11d27c",
   "metadata": {},
   "outputs": [
    {
     "data": {
      "text/plain": [
       "381"
      ]
     },
     "execution_count": 54,
     "metadata": {},
     "output_type": "execute_result"
    }
   ],
   "source": [
    "sum([conf_xgb[2], conf_xgb[3]])"
   ]
  },
  {
   "cell_type": "code",
   "execution_count": 55,
   "id": "cd5e8685-ad58-4c6a-a1b4-6a534715d7d5",
   "metadata": {},
   "outputs": [],
   "source": [
    "total_transactions = sum(conf_xgb)\n",
    "total_frauds = sum([conf_xgb[2], conf_xgb[3]])\n",
    "fp_opt = conf_xgb[1]\n",
    "fn_opt = conf_xgb[2]\n",
    "tp_opt = conf_xgb[3]\n",
    "tn_opt = conf_xgb[0]"
   ]
  },
  {
   "cell_type": "code",
   "execution_count": 56,
   "id": "12143285-242c-47e5-adeb-5431ac8bc21f",
   "metadata": {},
   "outputs": [
    {
     "data": {
      "text/plain": [
       "57443"
      ]
     },
     "execution_count": 56,
     "metadata": {},
     "output_type": "execute_result"
    }
   ],
   "source": [
    "total_transactions"
   ]
  },
  {
   "cell_type": "code",
   "execution_count": 57,
   "id": "67e0228d-468f-4391-a4e1-6de7818976f3",
   "metadata": {},
   "outputs": [
    {
     "data": {
      "text/plain": [
       "381"
      ]
     },
     "execution_count": 57,
     "metadata": {},
     "output_type": "execute_result"
    }
   ],
   "source": [
    "total_frauds"
   ]
  },
  {
   "cell_type": "code",
   "execution_count": 58,
   "id": "75774262-14ba-463f-9b1e-11c9b4517101",
   "metadata": {},
   "outputs": [
    {
     "data": {
      "text/plain": [
       "0.6632661943143638"
      ]
     },
     "execution_count": 58,
     "metadata": {},
     "output_type": "execute_result"
    }
   ],
   "source": [
    "total_frauds / total_transactions * 100"
   ]
  },
  {
   "cell_type": "code",
   "execution_count": 59,
   "id": "bb14e5a4-7d25-4c45-be70-a687be57a499",
   "metadata": {},
   "outputs": [
    {
     "data": {
      "text/plain": [
       "154"
      ]
     },
     "execution_count": 59,
     "metadata": {},
     "output_type": "execute_result"
    }
   ],
   "source": [
    "fn_opt"
   ]
  },
  {
   "cell_type": "code",
   "execution_count": 60,
   "id": "29a290a8-c25d-40d6-979c-a980941bf35c",
   "metadata": {},
   "outputs": [
    {
     "data": {
      "text/plain": [
       "9"
      ]
     },
     "execution_count": 60,
     "metadata": {},
     "output_type": "execute_result"
    }
   ],
   "source": [
    "fp_opt"
   ]
  },
  {
   "cell_type": "code",
   "execution_count": 61,
   "id": "f56613a7-d949-40a1-aabd-bd98a61549f9",
   "metadata": {},
   "outputs": [
    {
     "data": {
      "text/plain": [
       "227"
      ]
     },
     "execution_count": 61,
     "metadata": {},
     "output_type": "execute_result"
    }
   ],
   "source": [
    "tp_opt"
   ]
  },
  {
   "cell_type": "code",
   "execution_count": 62,
   "id": "66a2281e-f6ef-4bf4-b3b3-a41320a3c47d",
   "metadata": {},
   "outputs": [
    {
     "data": {
      "text/plain": [
       "236"
      ]
     },
     "execution_count": 62,
     "metadata": {},
     "output_type": "execute_result"
    }
   ],
   "source": [
    "fp_opt + tp_opt"
   ]
  },
  {
   "cell_type": "code",
   "execution_count": 63,
   "id": "b02eb59c-ed1a-45ab-8aa3-f027051520ef",
   "metadata": {},
   "outputs": [],
   "source": [
    "prec_opt = tp_opt / (fp_opt + tp_opt)"
   ]
  },
  {
   "cell_type": "code",
   "execution_count": 64,
   "id": "06294707-c832-4e27-8f3c-e35963663fc6",
   "metadata": {},
   "outputs": [
    {
     "data": {
      "text/plain": [
       "0.961864406779661"
      ]
     },
     "execution_count": 64,
     "metadata": {},
     "output_type": "execute_result"
    }
   ],
   "source": [
    "prec_opt"
   ]
  },
  {
   "cell_type": "code",
   "execution_count": 65,
   "id": "931945f0-4b0b-45f5-ab76-5eafa0f47f0a",
   "metadata": {},
   "outputs": [],
   "source": [
    "rec_opt = tp_opt / (tp_opt + fn_opt)"
   ]
  },
  {
   "cell_type": "code",
   "execution_count": 66,
   "id": "ae681fd0-d69d-4fdf-a04c-a55063f9e40d",
   "metadata": {},
   "outputs": [
    {
     "data": {
      "text/plain": [
       "0.5958005249343832"
      ]
     },
     "execution_count": 66,
     "metadata": {},
     "output_type": "execute_result"
    }
   ],
   "source": [
    "rec_opt"
   ]
  },
  {
   "cell_type": "code",
   "execution_count": 67,
   "id": "ad12dd15-78d4-42c5-8a4b-6b57fd3ca961",
   "metadata": {},
   "outputs": [],
   "source": [
    "threshold_range_xgb = threshold_range(\n",
    "    y_true, xgb_score_prob,\n",
    "    lower=0, upper=1, step=0.05, kind='prob')"
   ]
  },
  {
   "cell_type": "code",
   "execution_count": 68,
   "id": "1eca8a66-a7b0-4fec-a503-dbc3e5bc6abd",
   "metadata": {},
   "outputs": [
    {
     "data": {
      "text/html": [
       "<div>\n",
       "<style scoped>\n",
       "    .dataframe tbody tr th:only-of-type {\n",
       "        vertical-align: middle;\n",
       "    }\n",
       "\n",
       "    .dataframe tbody tr th {\n",
       "        vertical-align: top;\n",
       "    }\n",
       "\n",
       "    .dataframe thead th {\n",
       "        text-align: right;\n",
       "    }\n",
       "</style>\n",
       "<table border=\"1\" class=\"dataframe\">\n",
       "  <thead>\n",
       "    <tr style=\"text-align: right;\">\n",
       "      <th></th>\n",
       "      <th>Threshold</th>\n",
       "      <th>Precision</th>\n",
       "      <th>Recall</th>\n",
       "      <th>F1-score</th>\n",
       "      <th>FP</th>\n",
       "      <th>FN</th>\n",
       "      <th>TP</th>\n",
       "      <th>TN</th>\n",
       "    </tr>\n",
       "  </thead>\n",
       "  <tbody>\n",
       "    <tr>\n",
       "      <th>0</th>\n",
       "      <td>0.00</td>\n",
       "      <td>0.01</td>\n",
       "      <td>1.00</td>\n",
       "      <td>0.01</td>\n",
       "      <td>57062</td>\n",
       "      <td>0</td>\n",
       "      <td>381</td>\n",
       "      <td>0</td>\n",
       "    </tr>\n",
       "    <tr>\n",
       "      <th>1</th>\n",
       "      <td>0.05</td>\n",
       "      <td>0.70</td>\n",
       "      <td>0.67</td>\n",
       "      <td>0.69</td>\n",
       "      <td>107</td>\n",
       "      <td>126</td>\n",
       "      <td>255</td>\n",
       "      <td>56955</td>\n",
       "    </tr>\n",
       "    <tr>\n",
       "      <th>2</th>\n",
       "      <td>0.10</td>\n",
       "      <td>0.83</td>\n",
       "      <td>0.64</td>\n",
       "      <td>0.72</td>\n",
       "      <td>50</td>\n",
       "      <td>136</td>\n",
       "      <td>245</td>\n",
       "      <td>57012</td>\n",
       "    </tr>\n",
       "    <tr>\n",
       "      <th>3</th>\n",
       "      <td>0.15</td>\n",
       "      <td>0.87</td>\n",
       "      <td>0.63</td>\n",
       "      <td>0.73</td>\n",
       "      <td>35</td>\n",
       "      <td>141</td>\n",
       "      <td>240</td>\n",
       "      <td>57027</td>\n",
       "    </tr>\n",
       "    <tr>\n",
       "      <th>4</th>\n",
       "      <td>0.20</td>\n",
       "      <td>0.90</td>\n",
       "      <td>0.62</td>\n",
       "      <td>0.74</td>\n",
       "      <td>27</td>\n",
       "      <td>143</td>\n",
       "      <td>238</td>\n",
       "      <td>57035</td>\n",
       "    </tr>\n",
       "  </tbody>\n",
       "</table>\n",
       "</div>"
      ],
      "text/plain": [
       "   Threshold  Precision  Recall  F1-score     FP   FN   TP     TN\n",
       "0       0.00       0.01    1.00      0.01  57062    0  381      0\n",
       "1       0.05       0.70    0.67      0.69    107  126  255  56955\n",
       "2       0.10       0.83    0.64      0.72     50  136  245  57012\n",
       "3       0.15       0.87    0.63      0.73     35  141  240  57027\n",
       "4       0.20       0.90    0.62      0.74     27  143  238  57035"
      ]
     },
     "execution_count": 68,
     "metadata": {},
     "output_type": "execute_result"
    }
   ],
   "source": [
    "threshold_range_xgb.head()"
   ]
  },
  {
   "cell_type": "code",
   "execution_count": 69,
   "id": "a61d3137-cf8f-404c-a86c-595496f2316e",
   "metadata": {},
   "outputs": [],
   "source": [
    "threshold_range_xgb_plot = threshold_range_xgb[[\n",
    "    'Threshold', 'Precision', 'Recall', 'F1-score'\n",
    "]]"
   ]
  },
  {
   "cell_type": "code",
   "execution_count": 70,
   "id": "2a20d883-8891-44ad-b139-077e5202719c",
   "metadata": {},
   "outputs": [],
   "source": [
    "threshold_range_xgb_plot = data_smoothing(\n",
    "    data=threshold_range_xgb_plot,\n",
    "    x_var='Threshold',\n",
    "    y_vars=['Precision', 'Recall', 'F1-score'],\n",
    "    k=3, smooth_num=100\n",
    ")"
   ]
  },
  {
   "cell_type": "code",
   "execution_count": 71,
   "id": "33ae744d-f49a-4c3f-a7a4-2878ac486ea8",
   "metadata": {},
   "outputs": [],
   "source": [
    "threshold_range_xgb_plot = pd.melt(\n",
    "    frame=threshold_range_xgb_plot,\n",
    "    id_vars='Threshold',\n",
    "    value_vars=['Precision', 'Recall', 'F1-score'],\n",
    "    var_name='Metric',\n",
    "    value_name='Value'\n",
    ")"
   ]
  },
  {
   "cell_type": "code",
   "execution_count": 72,
   "id": "b01d02c5-f1e3-495d-ab50-146ae603f3a2",
   "metadata": {},
   "outputs": [
    {
     "data": {
      "text/html": [
       "<div>\n",
       "<style scoped>\n",
       "    .dataframe tbody tr th:only-of-type {\n",
       "        vertical-align: middle;\n",
       "    }\n",
       "\n",
       "    .dataframe tbody tr th {\n",
       "        vertical-align: top;\n",
       "    }\n",
       "\n",
       "    .dataframe thead th {\n",
       "        text-align: right;\n",
       "    }\n",
       "</style>\n",
       "<table border=\"1\" class=\"dataframe\">\n",
       "  <thead>\n",
       "    <tr style=\"text-align: right;\">\n",
       "      <th></th>\n",
       "      <th>Precision</th>\n",
       "      <th>Recall</th>\n",
       "      <th>Threshold</th>\n",
       "    </tr>\n",
       "  </thead>\n",
       "  <tbody>\n",
       "    <tr>\n",
       "      <th>Logistic Regression</th>\n",
       "      <td>0.81</td>\n",
       "      <td>0.60</td>\n",
       "      <td>0.19</td>\n",
       "    </tr>\n",
       "    <tr>\n",
       "      <th>Random Forest</th>\n",
       "      <td>0.94</td>\n",
       "      <td>0.60</td>\n",
       "      <td>0.39</td>\n",
       "    </tr>\n",
       "    <tr>\n",
       "      <th>XGBoost</th>\n",
       "      <td>0.96</td>\n",
       "      <td>0.60</td>\n",
       "      <td>0.49</td>\n",
       "    </tr>\n",
       "    <tr>\n",
       "      <th>LightGBM</th>\n",
       "      <td>0.72</td>\n",
       "      <td>0.57</td>\n",
       "      <td>0.30</td>\n",
       "    </tr>\n",
       "  </tbody>\n",
       "</table>\n",
       "</div>"
      ],
      "text/plain": [
       "                     Precision  Recall  Threshold\n",
       "Logistic Regression       0.81    0.60       0.19\n",
       "Random Forest             0.94    0.60       0.39\n",
       "XGBoost                   0.96    0.60       0.49\n",
       "LightGBM                  0.72    0.57       0.30"
      ]
     },
     "execution_count": 72,
     "metadata": {},
     "output_type": "execute_result"
    }
   ],
   "source": [
    "threshold_opt_df"
   ]
  },
  {
   "cell_type": "code",
   "execution_count": 73,
   "id": "33af46eb-b719-421a-86e1-f84fb956103f",
   "metadata": {},
   "outputs": [
    {
     "data": {
      "image/png": "[encoded data removed]",
      "text/plain": [
       "<Figure size 800x250 with 1 Axes>"
      ]
     },
     "metadata": {},
     "output_type": "display_data"
    },
    {
     "name": "stdout",
     "output_type": "stream",
     "text": [
      "\n",
      "Image 'pr_tradeoff_plot.png' successfully saved into 'img' directory\n"
     ]
    }
   ],
   "source": [
    "fig = plt.figure()\n",
    "\n",
    "sns.lineplot(\n",
    "    data=threshold_range_xgb_plot,\n",
    "    x='Threshold',\n",
    "    y='Value',\n",
    "    hue='Metric',\n",
    "    palette=[palette[0], palette[1], palette[2]]\n",
    ")\n",
    "\n",
    "# coordinates of optimal points\n",
    "x_opt = threshold_opt_df.loc['XGBoost','Threshold']\n",
    "y_opt_prec = threshold_opt_df.loc['XGBoost', 'Precision']\n",
    "y_opt_rec = threshold_opt_df.loc['XGBoost', 'Recall']\n",
    "\n",
    "sns.scatterplot(\n",
    "    x=[x_opt],\n",
    "    y=[y_opt_prec],\n",
    "    marker='.',\n",
    "    s=50,\n",
    "    color=palette[-1],\n",
    "    edgecolor=palette[-1],\n",
    "    linewidth=1.5,\n",
    "    zorder=10\n",
    ")\n",
    "\n",
    "sns.scatterplot(\n",
    "    x=[x_opt],\n",
    "    y=[y_opt_rec],\n",
    "    marker='.',\n",
    "    s=50,\n",
    "    color=palette[-1],\n",
    "    edgecolor=palette[-1],\n",
    "    linewidth=1.5,\n",
    "    zorder=10\n",
    ")\n",
    "\n",
    "# optimal lines\n",
    "x_opt_line = [x_opt, x_opt]\n",
    "y_opt_line = [y_opt_rec-0.1, y_opt_prec+0.1]\n",
    "\n",
    "plt.plot(\n",
    "    x_opt_line, y_opt_line, \n",
    "    label='Optimal Threshold',\n",
    "    color=palette[-1], linestyle=':')\n",
    "\n",
    "# for legend label 'Optimal Threshold'\n",
    "sns.lineplot(\n",
    "    x=x_opt,\n",
    "    y=(0.59,0.61),\n",
    "    linewidth=0.1,\n",
    "    linestyle=':',\n",
    "    color=palette[-1]\n",
    ")\n",
    "\n",
    "plt.xlim(0, 1)\n",
    "plt.ylim(0, 1.1)\n",
    "plt.ylabel(None)\n",
    "\n",
    "# plt.legend(\n",
    "#     labels=None, loc='upper right',\n",
    "#     bbox_to_anchor=(1.29, 1), prop={'size': 9}, labelcolor='0.3'\n",
    "# )\n",
    "\n",
    "plt.legend(**legend_inline, ncols=4)\n",
    "plt.show()\n",
    "\n",
    "savefig('pr_tradeoff_plot')"
   ]
  },
  {
   "cell_type": "code",
   "execution_count": 74,
   "id": "fa43447b-0f80-4bc0-accd-27ff78aba423",
   "metadata": {},
   "outputs": [],
   "source": [
    "fp_list = []\n",
    "fn_list = []\n",
    "\n",
    "range = np.arange(1, 0, -0.01)\n",
    "\n",
    "for threshold in range:\n",
    "\n",
    "    xgb_score_thresh = xgb_score_prob[:, 1]>=threshold\n",
    "    matrix = confusion_matrix(y_true, xgb_score_thresh)\n",
    "    \n",
    "    fp = matrix[0][1]\n",
    "    fn = matrix[1][0]\n",
    "\n",
    "    fp_list.append(fp)\n",
    "    fn_list.append(fn)"
   ]
  },
  {
   "cell_type": "code",
   "execution_count": 75,
   "id": "ae70ca58-cfde-4533-933d-efdcaa6f864e",
   "metadata": {},
   "outputs": [],
   "source": [
    "tradeof_df = pd.DataFrame(\n",
    "    data={\n",
    "        'False Fraud Predictions': fp_list,\n",
    "        'Missed Fraud Transactions': fn_list,\n",
    "    }\n",
    ")"
   ]
  },
  {
   "cell_type": "code",
   "execution_count": 76,
   "id": "4af894a8-2bcf-427c-bb85-c89fac0a6185",
   "metadata": {},
   "outputs": [],
   "source": [
    "tradeof_df = tradeof_df.drop_duplicates('False Fraud Predictions')\n",
    "\n",
    "tradeof_df_plot = data_smoothing(\n",
    "    data=tradeof_df,\n",
    "    x_var='False Fraud Predictions',\n",
    "    y_vars=['Missed Fraud Transactions'],\n",
    "    k=2, smooth_num=100\n",
    ")"
   ]
  },
  {
   "cell_type": "code",
   "execution_count": 186,
   "id": "5d9cde45-2237-4532-b8f9-c901b0d24fa4",
   "metadata": {},
   "outputs": [
    {
     "data": {
      "image/png": "[encoded data removed]",
      "text/plain": [
       "<Figure size 800x300 with 1 Axes>"
      ]
     },
     "metadata": {},
     "output_type": "display_data"
    },
    {
     "name": "stdout",
     "output_type": "stream",
     "text": [
      "\n",
      "Image 'missedwrong_tradeoff_1.png' successfully saved into 'img' directory\n"
     ]
    }
   ],
   "source": [
    "fig = plt.figure(figsize=(8, 3))\n",
    "\n",
    "sns.lineplot(\n",
    "    data=tradeof_df_plot,\n",
    "    x='False Fraud Predictions',\n",
    "    y='Missed Fraud Transactions',\n",
    "    linewidth=1.5\n",
    ");\n",
    "\n",
    "sns.scatterplot(\n",
    "    x=[fp_opt],\n",
    "    y=[fn_opt],\n",
    "    marker='o',\n",
    "    s=75,\n",
    "    edgecolor=palette[-1],\n",
    "    facecolor='None',\n",
    "    linewidth=1.5,\n",
    "    label='Optimal Threshold'\n",
    ")\n",
    "\n",
    "currentAxis = plt.gca()\n",
    "currentAxis.add_patch(\n",
    "    Rectangle(\n",
    "        xy=(3, 110),\n",
    "        width=170,\n",
    "        height=70,\n",
    "        edgecolor=palette[-1],\n",
    "        facecolor='none',\n",
    "        linestyle='--',\n",
    "        linewidth=0.75)\n",
    ")\n",
    "\n",
    "xmax = tradeof_df_plot['False Fraud Predictions'].max()\n",
    "ymax = tradeof_df_plot['Missed Fraud Transactions'].max()\n",
    "\n",
    "plt.ylim(0, ymax+19)\n",
    "plt.xlim(0, xmax+26)\n",
    "plt.xlabel('False Fraud Predictions')\n",
    "plt.ylabel('Missed Fraud Transactions')\n",
    "\n",
    "# plt.legend(\n",
    "#     labels=None, loc='upper right',\n",
    "#     bbox_to_anchor=(1.28, 1), prop={'size': 9}, labelcolor='0.3'\n",
    "# )\n",
    "\n",
    "lgnd = plt.legend(**legend_inline, fontsize=9)\n",
    "\n",
    "for handle in lgnd.legend_handles:\n",
    "    handle.set_sizes([50.0])\n",
    "    handle.set_linewidth([1.5])\n",
    "\n",
    "plt.grid(False)\n",
    "plt.show()\n",
    "\n",
    "savefig('missedwrong_tradeoff_1')"
   ]
  },
  {
   "cell_type": "code",
   "execution_count": 78,
   "id": "ad4f2a66-48b5-46e4-b4a2-d71d3e6a9691",
   "metadata": {},
   "outputs": [],
   "source": [
    "fp_list_1 = []\n",
    "fn_list_1 = []\n",
    "\n",
    "range = np.arange(0.01, 1, 0.01)\n",
    "\n",
    "for threshold in range:\n",
    "\n",
    "    xgb_score_thresh = (xgb_score_prob[:, 1] >= threshold)\n",
    "    matrix = confusion_matrix(y_true, xgb_score_thresh)\n",
    "    \n",
    "    fp_1 = matrix[0][1]\n",
    "    fn_1 = matrix[1][0]\n",
    "\n",
    "    fp_list_1.append(fp_1)\n",
    "    fn_list_1.append(fn_1)"
   ]
  },
  {
   "cell_type": "code",
   "execution_count": 79,
   "id": "e945220e-3c38-4644-bfb7-ca6b109a03c7",
   "metadata": {},
   "outputs": [],
   "source": [
    "tradeof_df_1 = pd.DataFrame(\n",
    "    data={\n",
    "        'False Fraud Predictions': fp_list_1,\n",
    "        'Missed Fraud Transactions': fn_list_1,\n",
    "    }\n",
    ")"
   ]
  },
  {
   "cell_type": "code",
   "execution_count": 80,
   "id": "dd3bcdea-2de2-4258-af53-3e79ae222f34",
   "metadata": {},
   "outputs": [],
   "source": [
    "tradeof_df_1 = tradeof_df_1.drop_duplicates('False Fraud Predictions')\n",
    "tradeof_df_1 = tradeof_df_1.sort_values('False Fraud Predictions')\n",
    "\n",
    "tradeof_df_plot_1 = data_smoothing(\n",
    "    data=tradeof_df_1[:-1],\n",
    "    x_var='False Fraud Predictions',\n",
    "    y_vars=['Missed Fraud Transactions'],\n",
    "    k=3, smooth_num=300\n",
    ")"
   ]
  },
  {
   "cell_type": "code",
   "execution_count": 187,
   "id": "13cc21e9-a78b-4ef1-82f4-4d7f27a1ee85",
   "metadata": {},
   "outputs": [
    {
     "data": {
      "image/png": "[encoded data removed]",
      "text/plain": [
       "<Figure size 800x300 with 1 Axes>"
      ]
     },
     "metadata": {},
     "output_type": "display_data"
    },
    {
     "name": "stdout",
     "output_type": "stream",
     "text": [
      "\n",
      "Image 'missedwrong_tradeoff_2.png' successfully saved into 'img' directory\n"
     ]
    }
   ],
   "source": [
    "fig, ax = plt.subplots(figsize=(8, 3))\n",
    "\n",
    "ax.plot(\n",
    "    smoothed(tradeof_df_plot_1['False Fraud Predictions'], n=1000),\n",
    "    smoothed(tradeof_df_plot_1['Missed Fraud Transactions'], n=1000),\n",
    "    linewidth=2,\n",
    "    color=palette[0],\n",
    "    alpha=1\n",
    ");\n",
    "\n",
    "line = ax.get_lines()\n",
    "x_values =  line[0].get_xdata()\n",
    "y_values = line[0].get_ydata()\n",
    "\n",
    "condition_1 = ((15<=x_values) & (x_values<=50.8))\n",
    "condition_2 = ((50.5<=x_values) & (x_values<=84.8))\n",
    "\n",
    "ax.fill_between(\n",
    "    x=x_values,\n",
    "    y1=y_values,\n",
    "    where=condition_1,\n",
    "    linewidth=0,\n",
    "    color=palette[-1], alpha=0.1\n",
    ")\n",
    "\n",
    "ax.fill_between(\n",
    "    x=x_values,\n",
    "    y1=y_values,\n",
    "    where=condition_2,\n",
    "    linewidth=0,\n",
    "    color=palette[-1], alpha=0.3\n",
    ")\n",
    "\n",
    "sns.scatterplot(\n",
    "    x=[fp_opt],\n",
    "    y=[fn_opt],\n",
    "    marker='o',\n",
    "    s=200,\n",
    "    edgecolor=palette[-1],\n",
    "    facecolor='None',\n",
    "    linewidth=2,\n",
    "    label='Optimal Threshold'\n",
    ")\n",
    "\n",
    "plt.plot(\n",
    "    [15.2,15.2], [120,153],\n",
    "    linestyle=':', linewidth=0.75, color=palette[-1])\n",
    "\n",
    "plt.plot(\n",
    "    [50.5,50.5], [120,136],\n",
    "    linestyle=':', linewidth=0.75, color=palette[-1])\n",
    "\n",
    "plt.plot(\n",
    "    [84.3,84.3], [120,127],\n",
    "    linestyle=':', linewidth=0.75, color=palette[-1])\n",
    "\n",
    "plt.ylim(120, 180)\n",
    "plt.xlim(0, 120)\n",
    "\n",
    "plt.xlabel('False Fraud Predictions')\n",
    "plt.ylabel('Missed Fraud Transactions')\n",
    "\n",
    "# lgnd = plt.legend(\n",
    "#     labels=None, loc='upper right',\n",
    "#     bbox_to_anchor=(1.28, 1), prop={'size': 9}, labelcolor='0.3')\n",
    "\n",
    "lgnd = plt.legend(**legend_inline, fontsize=9)\n",
    "\n",
    "for handle in lgnd.legend_handles:\n",
    "    handle.set_sizes([50.0])\n",
    "    handle.set_linewidth([1.5])\n",
    "\n",
    "plt.grid(False)\n",
    "plt.show()\n",
    "\n",
    "savefig('missedwrong_tradeoff_2')"
   ]
  },
  {
   "cell_type": "code",
   "execution_count": 82,
   "id": "fe3bb4e0-4b60-4e6b-b32e-ab0f5808ac48",
   "metadata": {},
   "outputs": [
    {
     "data": {
      "text/plain": [
       "32"
      ]
     },
     "execution_count": 82,
     "metadata": {},
     "output_type": "execute_result"
    }
   ],
   "source": [
    "47 - 15"
   ]
  },
  {
   "cell_type": "code",
   "execution_count": 83,
   "id": "d02495fc-36a7-438a-87cf-2c693075746d",
   "metadata": {},
   "outputs": [
    {
     "data": {
      "text/plain": [
       "17"
      ]
     },
     "execution_count": 83,
     "metadata": {},
     "output_type": "execute_result"
    }
   ],
   "source": [
    "153 - 136"
   ]
  },
  {
   "cell_type": "code",
   "execution_count": 84,
   "id": "77f2df88-ce73-42a1-9da2-c475dcf9fe7b",
   "metadata": {},
   "outputs": [
    {
     "data": {
      "text/plain": [
       "1.8823529411764706"
      ]
     },
     "execution_count": 84,
     "metadata": {},
     "output_type": "execute_result"
    }
   ],
   "source": [
    "32 / 17"
   ]
  },
  {
   "cell_type": "code",
   "execution_count": 85,
   "id": "6d634317-75b8-405f-bc0f-9c0bd3eccee4",
   "metadata": {},
   "outputs": [
    {
     "data": {
      "text/plain": [
       "39"
      ]
     },
     "execution_count": 85,
     "metadata": {},
     "output_type": "execute_result"
    }
   ],
   "source": [
    "86 - 47"
   ]
  },
  {
   "cell_type": "code",
   "execution_count": 86,
   "id": "93377a91-24d6-4df9-a9c2-dbb5882c9802",
   "metadata": {},
   "outputs": [
    {
     "data": {
      "text/plain": [
       "9"
      ]
     },
     "execution_count": 86,
     "metadata": {},
     "output_type": "execute_result"
    }
   ],
   "source": [
    "136 - 127"
   ]
  },
  {
   "cell_type": "code",
   "execution_count": 87,
   "id": "a5b62718-d53e-47c8-988e-b342e4c442fc",
   "metadata": {},
   "outputs": [
    {
     "data": {
      "text/plain": [
       "4.333333333333333"
      ]
     },
     "execution_count": 87,
     "metadata": {},
     "output_type": "execute_result"
    }
   ],
   "source": [
    "39 / 9"
   ]
  },
  {
   "cell_type": "code",
   "execution_count": 88,
   "id": "6bb4a63c-cc40-4796-9d56-f234d5e0e112",
   "metadata": {},
   "outputs": [],
   "source": [
    "thresh_search = threshold_range(\n",
    "    y_true, xgb_score_prob,\n",
    "    lower=0, upper=0.5, step=0.005, kind='prob')"
   ]
  },
  {
   "cell_type": "code",
   "execution_count": 89,
   "id": "c90473c3-7c9b-4925-9913-bf9e8bb71788",
   "metadata": {},
   "outputs": [
    {
     "data": {
      "text/html": [
       "<div>\n",
       "<style scoped>\n",
       "    .dataframe tbody tr th:only-of-type {\n",
       "        vertical-align: middle;\n",
       "    }\n",
       "\n",
       "    .dataframe tbody tr th {\n",
       "        vertical-align: top;\n",
       "    }\n",
       "\n",
       "    .dataframe thead th {\n",
       "        text-align: right;\n",
       "    }\n",
       "</style>\n",
       "<table border=\"1\" class=\"dataframe\">\n",
       "  <thead>\n",
       "    <tr style=\"text-align: right;\">\n",
       "      <th></th>\n",
       "      <th>Threshold</th>\n",
       "      <th>Precision</th>\n",
       "      <th>Recall</th>\n",
       "      <th>F1-score</th>\n",
       "      <th>FP</th>\n",
       "      <th>FN</th>\n",
       "      <th>TP</th>\n",
       "      <th>TN</th>\n",
       "    </tr>\n",
       "  </thead>\n",
       "  <tbody>\n",
       "    <tr>\n",
       "      <th>12</th>\n",
       "      <td>0.06</td>\n",
       "      <td>0.75</td>\n",
       "      <td>0.67</td>\n",
       "      <td>0.7</td>\n",
       "      <td>86</td>\n",
       "      <td>127</td>\n",
       "      <td>254</td>\n",
       "      <td>56976</td>\n",
       "    </tr>\n",
       "  </tbody>\n",
       "</table>\n",
       "</div>"
      ],
      "text/plain": [
       "    Threshold  Precision  Recall  F1-score  FP   FN   TP     TN\n",
       "12       0.06       0.75    0.67       0.7  86  127  254  56976"
      ]
     },
     "execution_count": 89,
     "metadata": {},
     "output_type": "execute_result"
    }
   ],
   "source": [
    "thresh_search.loc[thresh_search['FP']==86, :]"
   ]
  },
  {
   "cell_type": "code",
   "execution_count": 90,
   "id": "76d775ad-f0dc-404e-ad08-fb8b06bbde6e",
   "metadata": {},
   "outputs": [
    {
     "data": {
      "text/html": [
       "<div>\n",
       "<style scoped>\n",
       "    .dataframe tbody tr th:only-of-type {\n",
       "        vertical-align: middle;\n",
       "    }\n",
       "\n",
       "    .dataframe tbody tr th {\n",
       "        vertical-align: top;\n",
       "    }\n",
       "\n",
       "    .dataframe thead th {\n",
       "        text-align: right;\n",
       "    }\n",
       "</style>\n",
       "<table border=\"1\" class=\"dataframe\">\n",
       "  <thead>\n",
       "    <tr style=\"text-align: right;\">\n",
       "      <th></th>\n",
       "      <th>Threshold</th>\n",
       "      <th>Precision</th>\n",
       "      <th>Recall</th>\n",
       "      <th>F1-score</th>\n",
       "      <th>FP</th>\n",
       "      <th>FN</th>\n",
       "      <th>TP</th>\n",
       "      <th>TN</th>\n",
       "    </tr>\n",
       "  </thead>\n",
       "  <tbody>\n",
       "    <tr>\n",
       "      <th>22</th>\n",
       "      <td>0.11</td>\n",
       "      <td>0.84</td>\n",
       "      <td>0.64</td>\n",
       "      <td>0.73</td>\n",
       "      <td>47</td>\n",
       "      <td>136</td>\n",
       "      <td>245</td>\n",
       "      <td>57015</td>\n",
       "    </tr>\n",
       "  </tbody>\n",
       "</table>\n",
       "</div>"
      ],
      "text/plain": [
       "    Threshold  Precision  Recall  F1-score  FP   FN   TP     TN\n",
       "22       0.11       0.84    0.64      0.73  47  136  245  57015"
      ]
     },
     "execution_count": 90,
     "metadata": {},
     "output_type": "execute_result"
    }
   ],
   "source": [
    "thresh_search.loc[thresh_search['FP']==47, :]"
   ]
  },
  {
   "cell_type": "code",
   "execution_count": 91,
   "id": "4dca13c6-a992-42a7-848a-688891c8c0a0",
   "metadata": {},
   "outputs": [
    {
     "data": {
      "text/html": [
       "<div>\n",
       "<style scoped>\n",
       "    .dataframe tbody tr th:only-of-type {\n",
       "        vertical-align: middle;\n",
       "    }\n",
       "\n",
       "    .dataframe tbody tr th {\n",
       "        vertical-align: top;\n",
       "    }\n",
       "\n",
       "    .dataframe thead th {\n",
       "        text-align: right;\n",
       "    }\n",
       "</style>\n",
       "<table border=\"1\" class=\"dataframe\">\n",
       "  <thead>\n",
       "    <tr style=\"text-align: right;\">\n",
       "      <th></th>\n",
       "      <th>Threshold</th>\n",
       "      <th>Precision</th>\n",
       "      <th>Recall</th>\n",
       "      <th>F1-score</th>\n",
       "      <th>FP</th>\n",
       "      <th>FN</th>\n",
       "      <th>TP</th>\n",
       "      <th>TN</th>\n",
       "    </tr>\n",
       "  </thead>\n",
       "  <tbody>\n",
       "    <tr>\n",
       "      <th>70</th>\n",
       "      <td>0.350</td>\n",
       "      <td>0.94</td>\n",
       "      <td>0.6</td>\n",
       "      <td>0.73</td>\n",
       "      <td>15</td>\n",
       "      <td>153</td>\n",
       "      <td>228</td>\n",
       "      <td>57047</td>\n",
       "    </tr>\n",
       "    <tr>\n",
       "      <th>71</th>\n",
       "      <td>0.355</td>\n",
       "      <td>0.94</td>\n",
       "      <td>0.6</td>\n",
       "      <td>0.73</td>\n",
       "      <td>15</td>\n",
       "      <td>153</td>\n",
       "      <td>228</td>\n",
       "      <td>57047</td>\n",
       "    </tr>\n",
       "    <tr>\n",
       "      <th>72</th>\n",
       "      <td>0.360</td>\n",
       "      <td>0.94</td>\n",
       "      <td>0.6</td>\n",
       "      <td>0.73</td>\n",
       "      <td>15</td>\n",
       "      <td>153</td>\n",
       "      <td>228</td>\n",
       "      <td>57047</td>\n",
       "    </tr>\n",
       "    <tr>\n",
       "      <th>73</th>\n",
       "      <td>0.365</td>\n",
       "      <td>0.94</td>\n",
       "      <td>0.6</td>\n",
       "      <td>0.73</td>\n",
       "      <td>15</td>\n",
       "      <td>153</td>\n",
       "      <td>228</td>\n",
       "      <td>57047</td>\n",
       "    </tr>\n",
       "  </tbody>\n",
       "</table>\n",
       "</div>"
      ],
      "text/plain": [
       "    Threshold  Precision  Recall  F1-score  FP   FN   TP     TN\n",
       "70      0.350       0.94     0.6      0.73  15  153  228  57047\n",
       "71      0.355       0.94     0.6      0.73  15  153  228  57047\n",
       "72      0.360       0.94     0.6      0.73  15  153  228  57047\n",
       "73      0.365       0.94     0.6      0.73  15  153  228  57047"
      ]
     },
     "execution_count": 91,
     "metadata": {},
     "output_type": "execute_result"
    }
   ],
   "source": [
    "thresh_search.loc[thresh_search['FP']==15, :]"
   ]
  },
  {
   "cell_type": "markdown",
   "id": "85ce4acc-a8bb-4bbe-96e2-94dfdd2c765a",
   "metadata": {},
   "source": [
    "### Card Precision@100"
   ]
  },
  {
   "cell_type": "code",
   "execution_count": 92,
   "id": "400af89a-f33f-4f5c-84bd-282a9b33794a",
   "metadata": {},
   "outputs": [],
   "source": [
    "xgb_score_prob_fraud = xgb_score_prob[:, 1]"
   ]
  },
  {
   "cell_type": "code",
   "execution_count": 93,
   "id": "f83dd5eb-b2e9-4ed0-ae78-f00d03e2c5c8",
   "metadata": {},
   "outputs": [],
   "source": [
    "card_prec_df = test.copy()"
   ]
  },
  {
   "cell_type": "code",
   "execution_count": 94,
   "id": "3716444c-8828-4589-902b-8bd1eef86636",
   "metadata": {},
   "outputs": [],
   "source": [
    "card_prec_df['tx_fraud_prob'] = xgb_score_prob_fraud\n",
    "card_prec_df['predictions'] = xgb_score_prob_fraud"
   ]
  },
  {
   "cell_type": "code",
   "execution_count": 95,
   "id": "4b0b0126-3527-4ef3-8327-d43934f9e3f7",
   "metadata": {},
   "outputs": [],
   "source": [
    "cp_mean_week = card_precision_top_k(card_prec_df, 100)[2]"
   ]
  },
  {
   "cell_type": "code",
   "execution_count": 96,
   "id": "ee5e61fb-f8d2-4849-a18d-d88978702f36",
   "metadata": {},
   "outputs": [
    {
     "data": {
      "text/plain": [
       "0.30428571428571427"
      ]
     },
     "execution_count": 96,
     "metadata": {},
     "output_type": "execute_result"
    }
   ],
   "source": [
    "cp_mean_week"
   ]
  },
  {
   "cell_type": "code",
   "execution_count": 97,
   "id": "1855ee7d-10ba-4b6d-ae15-87d5685d1c2f",
   "metadata": {},
   "outputs": [],
   "source": [
    "card_prec_df = card_prec_df.drop('predictions', axis=1)"
   ]
  },
  {
   "cell_type": "code",
   "execution_count": 98,
   "id": "a0bc05e8-8de4-44a4-a266-3083ac65f1a6",
   "metadata": {},
   "outputs": [],
   "source": [
    "card_prec_df['tx_fraud_score'] = card_prec_df['tx_fraud_prob']>=0.5\n",
    "card_prec_df['tx_fraud_score'] = card_prec_df['tx_fraud_score'].astype(int)"
   ]
  },
  {
   "cell_type": "code",
   "execution_count": 99,
   "id": "1d71f901-1d82-48e0-86df-30e74fb71aa9",
   "metadata": {},
   "outputs": [],
   "source": [
    "card_prec_df_day = card_prec_df.loc[card_prec_df['tx_time_days']==182, :]"
   ]
  },
  {
   "cell_type": "code",
   "execution_count": 100,
   "id": "e1037704-f24f-4952-8374-10f09ec31dc8",
   "metadata": {},
   "outputs": [
    {
     "data": {
      "text/plain": [
       "(8267, 25)"
      ]
     },
     "execution_count": 100,
     "metadata": {},
     "output_type": "execute_result"
    }
   ],
   "source": [
    "card_prec_df_day.shape"
   ]
  },
  {
   "cell_type": "code",
   "execution_count": 101,
   "id": "d5b35026-f79c-4d4e-bd24-c56b4a7557b8",
   "metadata": {},
   "outputs": [],
   "source": [
    "fraud_transactions_day = card_prec_df_day['tx_fraud'].sum()"
   ]
  },
  {
   "cell_type": "code",
   "execution_count": 102,
   "id": "26e86b5b-2d06-4656-9a7f-749ee4098cc4",
   "metadata": {},
   "outputs": [
    {
     "data": {
      "text/plain": [
       "54"
      ]
     },
     "execution_count": 102,
     "metadata": {},
     "output_type": "execute_result"
    }
   ],
   "source": [
    "fraud_transactions_day"
   ]
  },
  {
   "cell_type": "code",
   "execution_count": 103,
   "id": "f0790f48-37f8-4507-8995-dcc732944c22",
   "metadata": {},
   "outputs": [
    {
     "data": {
      "text/plain": [
       "0.6531994677633967"
      ]
     },
     "execution_count": 103,
     "metadata": {},
     "output_type": "execute_result"
    }
   ],
   "source": [
    "fraud_transactions_day / len(card_prec_df_day) * 100"
   ]
  },
  {
   "cell_type": "code",
   "execution_count": 104,
   "id": "04d1fb5d-60a2-4aeb-93bc-7f290b7588a5",
   "metadata": {},
   "outputs": [],
   "source": [
    "card_prec_df_day = (card_prec_df_day\n",
    "                    .groupby('customer_id')\n",
    "                    .max()\n",
    "                    .sort_values('tx_fraud_prob', ascending=False)\n",
    "                    .reset_index())"
   ]
  },
  {
   "cell_type": "code",
   "execution_count": 105,
   "id": "748c0fcb-e4ee-4769-b5ff-5ee99cb2fc4a",
   "metadata": {},
   "outputs": [
    {
     "data": {
      "text/plain": [
       "(3203, 25)"
      ]
     },
     "execution_count": 105,
     "metadata": {},
     "output_type": "execute_result"
    }
   ],
   "source": [
    "card_prec_df_day.shape"
   ]
  },
  {
   "cell_type": "code",
   "execution_count": 106,
   "id": "4dbcd434-41a2-4c61-bc90-40f8f954f6db",
   "metadata": {},
   "outputs": [],
   "source": [
    "fraud_cards_day = card_prec_df_day['tx_fraud'].sum()"
   ]
  },
  {
   "cell_type": "code",
   "execution_count": 107,
   "id": "dbee049e-7f47-4b95-8cff-de854992661a",
   "metadata": {},
   "outputs": [
    {
     "data": {
      "text/plain": [
       "51"
      ]
     },
     "execution_count": 107,
     "metadata": {},
     "output_type": "execute_result"
    }
   ],
   "source": [
    "fraud_cards_day"
   ]
  },
  {
   "cell_type": "code",
   "execution_count": 108,
   "id": "20a1bfca-e145-4008-a6f4-480a03a0a643",
   "metadata": {},
   "outputs": [
    {
     "data": {
      "text/plain": [
       "1.5922572588198562"
      ]
     },
     "execution_count": 108,
     "metadata": {},
     "output_type": "execute_result"
    }
   ],
   "source": [
    "fraud_cards_day / len(card_prec_df_day) * 100"
   ]
  },
  {
   "cell_type": "code",
   "execution_count": 109,
   "id": "645992b0-b519-4f32-a2e1-3e30b23dcccd",
   "metadata": {},
   "outputs": [],
   "source": [
    "card_prec_df_day = (card_prec_df_day\n",
    "                    .sort_values('tx_fraud_prob', ascending=False))"
   ]
  },
  {
   "cell_type": "code",
   "execution_count": 110,
   "id": "d9c4a06e-8fb8-40af-b4d6-3d96a5ff1c2e",
   "metadata": {},
   "outputs": [],
   "source": [
    "card_prec_df_top100 = card_prec_df_day.iloc[:100, :]"
   ]
  },
  {
   "cell_type": "code",
   "execution_count": 111,
   "id": "f5acef41-017f-42ec-ab07-dd24986454b8",
   "metadata": {},
   "outputs": [],
   "source": [
    "fraud_cards_day_score = card_prec_df_top100['tx_fraud_score'].sum()"
   ]
  },
  {
   "cell_type": "code",
   "execution_count": 112,
   "id": "8f618577-334c-4635-8a2a-135f2cd686ba",
   "metadata": {},
   "outputs": [
    {
     "data": {
      "text/plain": [
       "30"
      ]
     },
     "execution_count": 112,
     "metadata": {},
     "output_type": "execute_result"
    }
   ],
   "source": [
    "fraud_cards_day_score"
   ]
  },
  {
   "cell_type": "code",
   "execution_count": 113,
   "id": "e7f1d2ea-9e78-425e-ad3b-a16b710531f9",
   "metadata": {},
   "outputs": [],
   "source": [
    "cp_day = fraud_cards_day_score / 100"
   ]
  },
  {
   "cell_type": "code",
   "execution_count": 114,
   "id": "947cbf28-c737-4942-89bc-89e32885589b",
   "metadata": {},
   "outputs": [
    {
     "data": {
      "text/plain": [
       "0.3"
      ]
     },
     "execution_count": 114,
     "metadata": {},
     "output_type": "execute_result"
    }
   ],
   "source": [
    "cp_day"
   ]
  },
  {
   "cell_type": "code",
   "execution_count": 115,
   "id": "55e0d143-00b7-4ebe-881e-7d095bf00afd",
   "metadata": {},
   "outputs": [],
   "source": [
    "cp_day_max = fraud_cards_day / 100"
   ]
  },
  {
   "cell_type": "code",
   "execution_count": 116,
   "id": "e99e3891-d44b-4bfa-a8fc-f71ece2afe2f",
   "metadata": {},
   "outputs": [
    {
     "data": {
      "text/plain": [
       "0.51"
      ]
     },
     "execution_count": 116,
     "metadata": {},
     "output_type": "execute_result"
    }
   ],
   "source": [
    "cp_day_max"
   ]
  },
  {
   "cell_type": "code",
   "execution_count": 117,
   "id": "9699c75d-00d3-495d-85a2-c3da9bab3cf8",
   "metadata": {},
   "outputs": [
    {
     "data": {
      "text/plain": [
       "0.5882352941176471"
      ]
     },
     "execution_count": 117,
     "metadata": {},
     "output_type": "execute_result"
    }
   ],
   "source": [
    "fraud_cards_day_score / fraud_cards_day"
   ]
  },
  {
   "cell_type": "code",
   "execution_count": 118,
   "id": "54133626-f118-4550-943b-6bec639abf61",
   "metadata": {},
   "outputs": [],
   "source": [
    "fraud_cards_day_missed = card_prec_df_top100[\n",
    "    card_prec_df_top100['tx_fraud'] != card_prec_df_top100['tx_fraud_score']\n",
    "]"
   ]
  },
  {
   "cell_type": "code",
   "execution_count": 119,
   "id": "3b48a506-050f-4aba-960b-5c54ab7b230f",
   "metadata": {},
   "outputs": [],
   "source": [
    "fraud_cards_day_missed_num = len(fraud_cards_day_missed)"
   ]
  },
  {
   "cell_type": "code",
   "execution_count": 120,
   "id": "3f79ff6e-fb1d-4711-a73e-7357c8ff7082",
   "metadata": {},
   "outputs": [
    {
     "data": {
      "text/plain": [
       "5"
      ]
     },
     "execution_count": 120,
     "metadata": {},
     "output_type": "execute_result"
    }
   ],
   "source": [
    "fraud_cards_day_missed_num"
   ]
  },
  {
   "cell_type": "code",
   "execution_count": 121,
   "id": "c8079706-9ac6-49ae-9c46-2aed129fd07b",
   "metadata": {},
   "outputs": [
    {
     "data": {
      "text/plain": [
       "0.14285714285714285"
      ]
     },
     "execution_count": 121,
     "metadata": {},
     "output_type": "execute_result"
    }
   ],
   "source": [
    "5 / 35"
   ]
  },
  {
   "cell_type": "code",
   "execution_count": 122,
   "id": "ea7293f0-4b27-40ae-ad77-4f6b481b6732",
   "metadata": {},
   "outputs": [],
   "source": [
    "matrix = confusion_matrix(\n",
    "    card_prec_df_top100['tx_fraud'], card_prec_df_top100['tx_fraud_score']\n",
    ")"
   ]
  },
  {
   "cell_type": "code",
   "execution_count": 123,
   "id": "5cb23666-7676-4ad1-b338-8acf3aeefde0",
   "metadata": {},
   "outputs": [
    {
     "data": {
      "text/plain": [
       "array([[65,  0],\n",
       "       [ 5, 30]])"
      ]
     },
     "execution_count": 123,
     "metadata": {},
     "output_type": "execute_result"
    }
   ],
   "source": [
    "matrix"
   ]
  },
  {
   "cell_type": "code",
   "execution_count": 124,
   "id": "c857af7e-fca4-463e-ae6b-b2a8721bb1c4",
   "metadata": {},
   "outputs": [
    {
     "data": {
      "text/plain": [
       "65"
      ]
     },
     "execution_count": 124,
     "metadata": {},
     "output_type": "execute_result"
    }
   ],
   "source": [
    "matrix[0][0]"
   ]
  },
  {
   "cell_type": "code",
   "execution_count": 125,
   "id": "7bf6f508-5272-4239-a9a3-dcf1e129d58c",
   "metadata": {},
   "outputs": [],
   "source": [
    "out_of_top100_frauds = (fraud_cards_day\n",
    "                        - fraud_cards_day_score\n",
    "                        - fraud_cards_day_missed_num)"
   ]
  },
  {
   "cell_type": "code",
   "execution_count": 126,
   "id": "f6876a7d-ca9f-4507-9995-493c13c0b98c",
   "metadata": {},
   "outputs": [
    {
     "data": {
      "text/plain": [
       "16"
      ]
     },
     "execution_count": 126,
     "metadata": {},
     "output_type": "execute_result"
    }
   ],
   "source": [
    "out_of_top100_frauds"
   ]
  },
  {
   "cell_type": "code",
   "execution_count": 127,
   "id": "396ed246-e752-4b69-b874-ee5dcbad14a7",
   "metadata": {},
   "outputs": [],
   "source": [
    "plot_df = pd.DataFrame({   \n",
    "    '': ['Top 100 Suspicious Transactions'],\n",
    "    'Out of Top-100: False Negative': [-out_of_top100_frauds],\n",
    "    'In Top-100: True Negative': [matrix[0][0]],\n",
    "    'In Top-100: False Negative': [matrix[1][0]],\n",
    "    'In Top-100: True Positive': [matrix[1][1]]\n",
    "})\n",
    "\n",
    "plot_df = plot_df.set_index('')\n",
    "plot_df.index.name = None"
   ]
  },
  {
   "cell_type": "code",
   "execution_count": 128,
   "id": "cb926ffc-3b2e-4282-a57c-88106c4e2970",
   "metadata": {},
   "outputs": [
    {
     "data": {
      "text/html": [
       "<div>\n",
       "<style scoped>\n",
       "    .dataframe tbody tr th:only-of-type {\n",
       "        vertical-align: middle;\n",
       "    }\n",
       "\n",
       "    .dataframe tbody tr th {\n",
       "        vertical-align: top;\n",
       "    }\n",
       "\n",
       "    .dataframe thead th {\n",
       "        text-align: right;\n",
       "    }\n",
       "</style>\n",
       "<table border=\"1\" class=\"dataframe\">\n",
       "  <thead>\n",
       "    <tr style=\"text-align: right;\">\n",
       "      <th></th>\n",
       "      <th>Out of Top-100: False Negative</th>\n",
       "      <th>In Top-100: True Negative</th>\n",
       "      <th>In Top-100: False Negative</th>\n",
       "      <th>In Top-100: True Positive</th>\n",
       "    </tr>\n",
       "  </thead>\n",
       "  <tbody>\n",
       "    <tr>\n",
       "      <th>Top 100 Suspicious Transactions</th>\n",
       "      <td>-16</td>\n",
       "      <td>65</td>\n",
       "      <td>5</td>\n",
       "      <td>30</td>\n",
       "    </tr>\n",
       "  </tbody>\n",
       "</table>\n",
       "</div>"
      ],
      "text/plain": [
       "                                 Out of Top-100: False Negative  \\\n",
       "Top 100 Suspicious Transactions                             -16   \n",
       "\n",
       "                                 In Top-100: True Negative  \\\n",
       "Top 100 Suspicious Transactions                         65   \n",
       "\n",
       "                                 In Top-100: False Negative  \\\n",
       "Top 100 Suspicious Transactions                           5   \n",
       "\n",
       "                                 In Top-100: True Positive  \n",
       "Top 100 Suspicious Transactions                         30  "
      ]
     },
     "execution_count": 128,
     "metadata": {},
     "output_type": "execute_result"
    }
   ],
   "source": [
    "plot_df"
   ]
  },
  {
   "cell_type": "code",
   "execution_count": 220,
   "id": "3672cb88-c4b0-4b58-8531-4d06da6e32d6",
   "metadata": {},
   "outputs": [
    {
     "data": {
      "image/png": "[encoded data removed]",
      "text/plain": [
       "<Figure size 1000x100 with 1 Axes>"
      ]
     },
     "metadata": {},
     "output_type": "display_data"
    },
    {
     "name": "stdout",
     "output_type": "stream",
     "text": [
      "\n",
      "Image 'cp_100.png' successfully saved into 'img' directory\n"
     ]
    }
   ],
   "source": [
    "fig, ax = plt.subplots()\n",
    "\n",
    "plot_df.plot(\n",
    "    kind='barh', stacked='True', width=0.3, figsize=(10,1),\n",
    "    color=[palette[1], palette[2], palette[-1], palette[0]], ax=ax)\n",
    "\n",
    "ax.spines['left'].set_position('zero')\n",
    "\n",
    "out = plot_df['Out of Top-100: False Negative'].item()\n",
    "top_correct_clean = plot_df['In Top-100: True Negative'].item()\n",
    "top_missed = plot_df['In Top-100: False Negative'].item()\n",
    "top_correct_fraud = plot_df['In Top-100: True Positive'].item()\n",
    "\n",
    "labels = [\n",
    "    'Out of Top-100: False Negative: {0}'.format(abs(out)),\n",
    "    'In Top-100: True Negative: {0}'.format(top_correct_clean),\n",
    "    'In Top-100: False Negative: {0}'.format(top_missed),\n",
    "    'In Top-100: True Positive: {0}'.format(top_correct_fraud)\n",
    "]\n",
    "\n",
    "# plt.legend(\n",
    "#     labels=labels, loc='center', bbox_to_anchor=(1.24, 0.5),\n",
    "#     prop={'size': 9.5}, labelcolor='0.3')\n",
    "\n",
    "plt.legend(\n",
    "    labels=labels, ncols=4,\n",
    "    loc='upper left', bbox_to_anchor=(-0.02, 1.25))\n",
    "\n",
    "xlabel = 'Top 100 Suspicious Transactions'\n",
    "\n",
    "plt.yticks([])\n",
    "plt.xlabel(xlabel)\n",
    "plt.xlim(-19,101)\n",
    "ax.spines['left'].set_visible(False)\n",
    "plt.grid(False)\n",
    "\n",
    "plt.show()\n",
    "\n",
    "savefig('cp_100')\n",
    "\n"
   ]
  },
  {
   "cell_type": "code",
   "execution_count": 130,
   "id": "23af7d62-7c35-41bb-8ae7-b82716324582",
   "metadata": {},
   "outputs": [],
   "source": [
    "card_prec_comp_df_xgb = performance_xgb_base.loc[\n",
    "    performance_xgb_base['Parameters summary'].isin(['10/6/0.3']), :]\n",
    "\n",
    "card_prec_comp_df_xgb = card_prec_comp_df_xgb[[\n",
    "    'Parameters summary',\n",
    "    'Card Precision@100 Test',\n",
    "    'Card Precision@100 Test Std',\n",
    "    'Card Precision@100 Validation',\n",
    "    'Card Precision@100 Validation Std'\n",
    "]]\n",
    "\n",
    "card_prec_comp_df_xgb = (card_prec_comp_df_xgb\n",
    "                        .sort_values('Card Precision@100 Validation',\n",
    "                                     ascending=False))"
   ]
  },
  {
   "cell_type": "code",
   "execution_count": 131,
   "id": "9f4abde7-0e06-4084-baae-2532e89ce6fc",
   "metadata": {},
   "outputs": [
    {
     "data": {
      "text/html": [
       "<div>\n",
       "<style scoped>\n",
       "    .dataframe tbody tr th:only-of-type {\n",
       "        vertical-align: middle;\n",
       "    }\n",
       "\n",
       "    .dataframe tbody tr th {\n",
       "        vertical-align: top;\n",
       "    }\n",
       "\n",
       "    .dataframe thead th {\n",
       "        text-align: right;\n",
       "    }\n",
       "</style>\n",
       "<table border=\"1\" class=\"dataframe\">\n",
       "  <thead>\n",
       "    <tr style=\"text-align: right;\">\n",
       "      <th></th>\n",
       "      <th>Parameters summary</th>\n",
       "      <th>Card Precision@100 Test</th>\n",
       "      <th>Card Precision@100 Test Std</th>\n",
       "      <th>Card Precision@100 Validation</th>\n",
       "      <th>Card Precision@100 Validation Std</th>\n",
       "    </tr>\n",
       "  </thead>\n",
       "  <tbody>\n",
       "    <tr>\n",
       "      <th>29</th>\n",
       "      <td>10/6/0.3</td>\n",
       "      <td>0.302143</td>\n",
       "      <td>0.017742</td>\n",
       "      <td>0.321429</td>\n",
       "      <td>0.016225</td>\n",
       "    </tr>\n",
       "  </tbody>\n",
       "</table>\n",
       "</div>"
      ],
      "text/plain": [
       "   Parameters summary  Card Precision@100 Test  Card Precision@100 Test Std  \\\n",
       "29           10/6/0.3                 0.302143                     0.017742   \n",
       "\n",
       "    Card Precision@100 Validation  Card Precision@100 Validation Std  \n",
       "29                       0.321429                           0.016225  "
      ]
     },
     "execution_count": 131,
     "metadata": {},
     "output_type": "execute_result"
    }
   ],
   "source": [
    "card_prec_comp_df_xgb"
   ]
  },
  {
   "cell_type": "code",
   "execution_count": 132,
   "id": "af89f211-ddb6-4299-be87-7764d846bce6",
   "metadata": {},
   "outputs": [],
   "source": [
    "card_prec_comp_df_rf = performance_rf_base.loc[\n",
    "    performance_rf_base['Parameters summary'].isin(['150/50']), :]\n",
    "\n",
    "card_prec_comp_df_rf = card_prec_comp_df_rf[[\n",
    "    'Parameters summary',\n",
    "    'Card Precision@100 Test',\n",
    "    'Card Precision@100 Test Std',\n",
    "    'Card Precision@100 Validation',\n",
    "    'Card Precision@100 Validation Std'\n",
    "]]\n",
    "\n",
    "card_prec_comp_df_rf = (card_prec_comp_df_rf\n",
    "                        .sort_values('Card Precision@100 Validation',\n",
    "                                     ascending=False))"
   ]
  },
  {
   "cell_type": "code",
   "execution_count": 133,
   "id": "f22fba3c-4a3b-4590-8ef5-7f1619331498",
   "metadata": {},
   "outputs": [
    {
     "data": {
      "text/html": [
       "<div>\n",
       "<style scoped>\n",
       "    .dataframe tbody tr th:only-of-type {\n",
       "        vertical-align: middle;\n",
       "    }\n",
       "\n",
       "    .dataframe tbody tr th {\n",
       "        vertical-align: top;\n",
       "    }\n",
       "\n",
       "    .dataframe thead th {\n",
       "        text-align: right;\n",
       "    }\n",
       "</style>\n",
       "<table border=\"1\" class=\"dataframe\">\n",
       "  <thead>\n",
       "    <tr style=\"text-align: right;\">\n",
       "      <th></th>\n",
       "      <th>Parameters summary</th>\n",
       "      <th>Card Precision@100 Test</th>\n",
       "      <th>Card Precision@100 Test Std</th>\n",
       "      <th>Card Precision@100 Validation</th>\n",
       "      <th>Card Precision@100 Validation Std</th>\n",
       "    </tr>\n",
       "  </thead>\n",
       "  <tbody>\n",
       "    <tr>\n",
       "      <th>20</th>\n",
       "      <td>150/50</td>\n",
       "      <td>0.305714</td>\n",
       "      <td>0.018708</td>\n",
       "      <td>0.321071</td>\n",
       "      <td>0.018193</td>\n",
       "    </tr>\n",
       "  </tbody>\n",
       "</table>\n",
       "</div>"
      ],
      "text/plain": [
       "   Parameters summary  Card Precision@100 Test  Card Precision@100 Test Std  \\\n",
       "20             150/50                 0.305714                     0.018708   \n",
       "\n",
       "    Card Precision@100 Validation  Card Precision@100 Validation Std  \n",
       "20                       0.321071                           0.018193  "
      ]
     },
     "execution_count": 133,
     "metadata": {},
     "output_type": "execute_result"
    }
   ],
   "source": [
    "card_prec_comp_df_rf"
   ]
  },
  {
   "cell_type": "code",
   "execution_count": 134,
   "id": "8d42962d-ac38-430b-a6b5-2ed32bc51afe",
   "metadata": {},
   "outputs": [],
   "source": [
    "card_prec_comp_df = pd.concat(\n",
    "    [card_prec_comp_df_xgb, card_prec_comp_df_rf], axis=0)\n",
    "\n",
    "card_prec_comp_df.iloc[0,0] = 'XGBoost'\n",
    "card_prec_comp_df.iloc[1,0] = 'Random Forest'"
   ]
  },
  {
   "cell_type": "code",
   "execution_count": 135,
   "id": "e55804e7-5c03-4c02-af35-e05d965146be",
   "metadata": {},
   "outputs": [
    {
     "data": {
      "text/html": [
       "<div>\n",
       "<style scoped>\n",
       "    .dataframe tbody tr th:only-of-type {\n",
       "        vertical-align: middle;\n",
       "    }\n",
       "\n",
       "    .dataframe tbody tr th {\n",
       "        vertical-align: top;\n",
       "    }\n",
       "\n",
       "    .dataframe thead th {\n",
       "        text-align: right;\n",
       "    }\n",
       "</style>\n",
       "<table border=\"1\" class=\"dataframe\">\n",
       "  <thead>\n",
       "    <tr style=\"text-align: right;\">\n",
       "      <th></th>\n",
       "      <th>Parameters summary</th>\n",
       "      <th>Card Precision@100 Test</th>\n",
       "      <th>Card Precision@100 Test Std</th>\n",
       "      <th>Card Precision@100 Validation</th>\n",
       "      <th>Card Precision@100 Validation Std</th>\n",
       "    </tr>\n",
       "  </thead>\n",
       "  <tbody>\n",
       "    <tr>\n",
       "      <th>29</th>\n",
       "      <td>XGBoost</td>\n",
       "      <td>0.302143</td>\n",
       "      <td>0.017742</td>\n",
       "      <td>0.321429</td>\n",
       "      <td>0.016225</td>\n",
       "    </tr>\n",
       "    <tr>\n",
       "      <th>20</th>\n",
       "      <td>Random Forest</td>\n",
       "      <td>0.305714</td>\n",
       "      <td>0.018708</td>\n",
       "      <td>0.321071</td>\n",
       "      <td>0.018193</td>\n",
       "    </tr>\n",
       "  </tbody>\n",
       "</table>\n",
       "</div>"
      ],
      "text/plain": [
       "   Parameters summary  Card Precision@100 Test  Card Precision@100 Test Std  \\\n",
       "29            XGBoost                 0.302143                     0.017742   \n",
       "20      Random Forest                 0.305714                     0.018708   \n",
       "\n",
       "    Card Precision@100 Validation  Card Precision@100 Validation Std  \n",
       "29                       0.321429                           0.016225  \n",
       "20                       0.321071                           0.018193  "
      ]
     },
     "execution_count": 135,
     "metadata": {},
     "output_type": "execute_result"
    }
   ],
   "source": [
    "card_prec_comp_df"
   ]
  },
  {
   "cell_type": "code",
   "execution_count": 136,
   "id": "26464fa7-616a-483d-a621-43a2b7068e59",
   "metadata": {},
   "outputs": [],
   "source": [
    "card_prec_comp_df_primary = card_prec_comp_df[[\n",
    "    'Parameters summary',\n",
    "    'Card Precision@100 Validation',\n",
    "    'Card Precision@100 Test'\n",
    "]]\n",
    "\n",
    "card_prec_comp_df_primary.columns = [\n",
    "    'Parameters summary',\n",
    "    'Validation',\n",
    "    'Test'\n",
    "]\n",
    "\n",
    "card_prec_comp_df_primary = pd.melt(\n",
    "    frame=card_prec_comp_df_primary,\n",
    "    id_vars='Parameters summary',\n",
    "    value_vars=['Validation', 'Test'],\n",
    "    var_name='',\n",
    "    value_name='Card Precision@100'\n",
    ")"
   ]
  },
  {
   "cell_type": "code",
   "execution_count": 137,
   "id": "c11af5ae-6e3e-4fcc-afd4-8d9dd6a7f40d",
   "metadata": {},
   "outputs": [
    {
     "data": {
      "text/html": [
       "<div>\n",
       "<style scoped>\n",
       "    .dataframe tbody tr th:only-of-type {\n",
       "        vertical-align: middle;\n",
       "    }\n",
       "\n",
       "    .dataframe tbody tr th {\n",
       "        vertical-align: top;\n",
       "    }\n",
       "\n",
       "    .dataframe thead th {\n",
       "        text-align: right;\n",
       "    }\n",
       "</style>\n",
       "<table border=\"1\" class=\"dataframe\">\n",
       "  <thead>\n",
       "    <tr style=\"text-align: right;\">\n",
       "      <th></th>\n",
       "      <th>Parameters summary</th>\n",
       "      <th></th>\n",
       "      <th>Card Precision@100</th>\n",
       "    </tr>\n",
       "  </thead>\n",
       "  <tbody>\n",
       "    <tr>\n",
       "      <th>0</th>\n",
       "      <td>XGBoost</td>\n",
       "      <td>Validation</td>\n",
       "      <td>0.321429</td>\n",
       "    </tr>\n",
       "    <tr>\n",
       "      <th>1</th>\n",
       "      <td>Random Forest</td>\n",
       "      <td>Validation</td>\n",
       "      <td>0.321071</td>\n",
       "    </tr>\n",
       "    <tr>\n",
       "      <th>2</th>\n",
       "      <td>XGBoost</td>\n",
       "      <td>Test</td>\n",
       "      <td>0.302143</td>\n",
       "    </tr>\n",
       "    <tr>\n",
       "      <th>3</th>\n",
       "      <td>Random Forest</td>\n",
       "      <td>Test</td>\n",
       "      <td>0.305714</td>\n",
       "    </tr>\n",
       "  </tbody>\n",
       "</table>\n",
       "</div>"
      ],
      "text/plain": [
       "  Parameters summary              Card Precision@100\n",
       "0            XGBoost  Validation            0.321429\n",
       "1      Random Forest  Validation            0.321071\n",
       "2            XGBoost        Test            0.302143\n",
       "3      Random Forest        Test            0.305714"
      ]
     },
     "execution_count": 137,
     "metadata": {},
     "output_type": "execute_result"
    }
   ],
   "source": [
    "card_prec_comp_df_primary"
   ]
  },
  {
   "cell_type": "code",
   "execution_count": 138,
   "id": "0a9df104-fcd0-44b7-aac0-5b1fbd8e3cf0",
   "metadata": {},
   "outputs": [],
   "source": [
    "card_prec_comp_df_std = card_prec_comp_df.copy()"
   ]
  },
  {
   "cell_type": "code",
   "execution_count": 139,
   "id": "ff668a59-0369-49b1-9929-687ad586c03f",
   "metadata": {},
   "outputs": [
    {
     "data": {
      "text/html": [
       "<div>\n",
       "<style scoped>\n",
       "    .dataframe tbody tr th:only-of-type {\n",
       "        vertical-align: middle;\n",
       "    }\n",
       "\n",
       "    .dataframe tbody tr th {\n",
       "        vertical-align: top;\n",
       "    }\n",
       "\n",
       "    .dataframe thead th {\n",
       "        text-align: right;\n",
       "    }\n",
       "</style>\n",
       "<table border=\"1\" class=\"dataframe\">\n",
       "  <thead>\n",
       "    <tr style=\"text-align: right;\">\n",
       "      <th></th>\n",
       "      <th>Parameters summary</th>\n",
       "      <th>Card Precision@100 Test</th>\n",
       "      <th>Card Precision@100 Test Std</th>\n",
       "      <th>Card Precision@100 Validation</th>\n",
       "      <th>Card Precision@100 Validation Std</th>\n",
       "    </tr>\n",
       "  </thead>\n",
       "  <tbody>\n",
       "    <tr>\n",
       "      <th>29</th>\n",
       "      <td>XGBoost</td>\n",
       "      <td>0.302143</td>\n",
       "      <td>0.017742</td>\n",
       "      <td>0.321429</td>\n",
       "      <td>0.016225</td>\n",
       "    </tr>\n",
       "    <tr>\n",
       "      <th>20</th>\n",
       "      <td>Random Forest</td>\n",
       "      <td>0.305714</td>\n",
       "      <td>0.018708</td>\n",
       "      <td>0.321071</td>\n",
       "      <td>0.018193</td>\n",
       "    </tr>\n",
       "  </tbody>\n",
       "</table>\n",
       "</div>"
      ],
      "text/plain": [
       "   Parameters summary  Card Precision@100 Test  Card Precision@100 Test Std  \\\n",
       "29            XGBoost                 0.302143                     0.017742   \n",
       "20      Random Forest                 0.305714                     0.018708   \n",
       "\n",
       "    Card Precision@100 Validation  Card Precision@100 Validation Std  \n",
       "29                       0.321429                           0.016225  \n",
       "20                       0.321071                           0.018193  "
      ]
     },
     "execution_count": 139,
     "metadata": {},
     "output_type": "execute_result"
    }
   ],
   "source": [
    "card_prec_comp_df_std"
   ]
  },
  {
   "cell_type": "code",
   "execution_count": 140,
   "id": "93429a12-eb12-4889-b48f-a94f66103d35",
   "metadata": {},
   "outputs": [],
   "source": [
    "card_prec_comp_df['Card Precision@100 Test Conf Min'] = \\\n",
    "    (card_prec_comp_df['Card Precision@100 Test']\n",
    "     - 3.18*(card_prec_comp_df['Card Precision@100 Test Std']/4**0.5))\n",
    "\n",
    "card_prec_comp_df['Card Precision@100 Test Conf Max'] = \\\n",
    "    (card_prec_comp_df['Card Precision@100 Test']\n",
    "     + 3.18*(card_prec_comp_df['Card Precision@100 Test Std']/4**0.5))\n",
    "\n",
    "card_prec_comp_df['Card Precision@100 Validation Conf Min'] = \\\n",
    "    (card_prec_comp_df['Card Precision@100 Validation']\n",
    "     - 3.18*(card_prec_comp_df['Card Precision@100 Validation Std']/4**0.5))\n",
    "\n",
    "card_prec_comp_df['Card Precision@100 Validation Conf Max'] = \\\n",
    "    (card_prec_comp_df['Card Precision@100 Validation']\n",
    "     + 3.18*(card_prec_comp_df['Card Precision@100 Validation Std']/4**0.5))"
   ]
  },
  {
   "cell_type": "code",
   "execution_count": 141,
   "id": "733b83db-a48e-44af-8dc0-1ae8eba1e429",
   "metadata": {},
   "outputs": [],
   "source": [
    "cp_model_loc = card_prec_comp_df['Parameters summary'] == 'XGBoost'\n",
    "\n",
    "cp_model_test_ymin = (card_prec_comp_df\n",
    "                      .loc[cp_model_loc, 'Card Precision@100 Test Conf Min']\n",
    "                      .values[0])\n",
    "cp_model_test_ymax = (card_prec_comp_df\n",
    "                      .loc[cp_model_loc, 'Card Precision@100 Test Conf Max']\n",
    "                      .values[0])\n",
    "cp_model_valid_ymin = (card_prec_comp_df\n",
    "                       .loc[cp_model_loc, 'Card Precision@100 Validation Conf Min']\n",
    "                       .values[0])\n",
    "cp_model_valid_ymax = (card_prec_comp_df\n",
    "                       .loc[cp_model_loc, 'Card Precision@100 Validation Conf Max']\n",
    "                       .values[0])"
   ]
  },
  {
   "cell_type": "code",
   "execution_count": 142,
   "id": "eda7eca4-db52-447b-9dc1-d6ee3a3bc56d",
   "metadata": {},
   "outputs": [],
   "source": [
    "auc_model_loc = card_prec_comp_df['Parameters summary'] == 'Random Forest'\n",
    "\n",
    "auc_model_test_ymin = (card_prec_comp_df\n",
    "                       .loc[auc_model_loc, 'Card Precision@100 Test Conf Min']\n",
    "                       .values[0])\n",
    "auc_model_test_ymax = (card_prec_comp_df\n",
    "                       .loc[auc_model_loc, 'Card Precision@100 Test Conf Max']\n",
    "                       .values[0])\n",
    "auc_model_valid_ymin = (card_prec_comp_df\n",
    "                        .loc[auc_model_loc, 'Card Precision@100 Validation Conf Min']\n",
    "                        .values[0])\n",
    "auc_model_valid_ymax = (card_prec_comp_df\n",
    "                        .loc[auc_model_loc, 'Card Precision@100 Validation Conf Max']\n",
    "                        .values[0])"
   ]
  },
  {
   "cell_type": "code",
   "execution_count": 143,
   "id": "b120180b-4d3a-46ee-a0c7-3c9e500c6337",
   "metadata": {},
   "outputs": [
    {
     "data": {
      "image/png": "[encoded data removed]",
      "text/plain": [
       "<Figure size 750x300 with 1 Axes>"
      ]
     },
     "metadata": {},
     "output_type": "display_data"
    }
   ],
   "source": [
    "plt.figure(figsize=(7.5,3))\n",
    "\n",
    "sns.scatterplot(\n",
    "    data=card_prec_comp_df_primary,\n",
    "    x='',\n",
    "    y='Card Precision@100',\n",
    "    hue='Parameters summary',\n",
    "    s=60,\n",
    "    palette=[palette[0], palette[2]],\n",
    "    edgecolor='None',\n",
    "    zorder=100,\n",
    "    alpha=1\n",
    ")\n",
    "\n",
    "sns.lineplot(\n",
    "    data=card_prec_comp_df_primary,\n",
    "    x='',\n",
    "    y='Card Precision@100',\n",
    "    hue='Parameters summary',\n",
    "    legend=None,\n",
    "    palette=[palette[0], palette[2]],\n",
    "    linewidth=2,\n",
    "    alpha=0.5\n",
    ")\n",
    "\n",
    "# cp conf plot\n",
    "plt.plot(\n",
    "    ['Validation', 'Validation'],\n",
    "    [cp_model_valid_ymin, cp_model_valid_ymax],\n",
    "    color=palette[0],\n",
    "    linewidth=2,\n",
    "    alpha=0.95,\n",
    ")\n",
    "\n",
    "plt.plot(\n",
    "    ['Test', 'Test'],\n",
    "    [cp_model_test_ymin, cp_model_test_ymax],\n",
    "    color=palette[0],\n",
    "    linewidth=2,\n",
    "    alpha=0.95\n",
    ")\n",
    "\n",
    "# auc conf plot\n",
    "plt.plot(\n",
    "    ['Validation', 'Validation'],\n",
    "    [auc_model_valid_ymin, auc_model_valid_ymax],\n",
    "    color=palette[2],\n",
    "    linewidth=1,\n",
    "    alpha=0.95\n",
    ")\n",
    "\n",
    "plt.plot(\n",
    "    ['Test', 'Test'],\n",
    "    [auc_model_test_ymin, auc_model_test_ymax],\n",
    "    color=palette[2],\n",
    "    linewidth=1,\n",
    "    alpha=0.95\n",
    ")\n",
    "\n",
    "plt.xticks(fontsize=10)\n",
    "plt.xlim(-0.5,1.5)\n",
    "plt.ylim(0.249, 0.371)\n",
    "plt.yticks(np.arange(0.250, 0.371, 0.05))\n",
    "\n",
    "plt.legend(\n",
    "    loc='upper right', bbox_to_anchor=(1.3,1),\n",
    "    prop={'size': 9.5}, labelcolor='0.3')\n",
    "\n",
    "plt.savefig(\n",
    "    fname='img/{}.png'.format('cp_roc_auc_models'),\n",
    "    bbox_inches='tight'\n",
    ")\n",
    "\n",
    "plt.show()"
   ]
  },
  {
   "cell_type": "markdown",
   "id": "14f40db9-55ca-4ce2-aacf-a2c5317efd7f",
   "metadata": {},
   "source": [
    "### Executing Times"
   ]
  },
  {
   "cell_type": "code",
   "execution_count": 242,
   "id": "8d374c0f-79a9-418d-9e1b-73e65b652efb",
   "metadata": {},
   "outputs": [
    {
     "name": "stdout",
     "output_type": "stream",
     "text": [
      "\n",
      "Image 'score_time.png' successfully saved into 'img' directory\n"
     ]
    },
    {
     "data": {
      "image/png": "[encoded data removed]",
      "text/plain": [
       "<Figure size 800x150 with 1 Axes>"
      ]
     },
     "metadata": {},
     "output_type": "display_data"
    }
   ],
   "source": [
    "plot_times(\n",
    "    data=results,\n",
    "    times=['Score Time'],\n",
    "    palette=colors,\n",
    "    figsize=(8,1.5),\n",
    "    save=True, filename='score_time'\n",
    ")"
   ]
  },
  {
   "cell_type": "code",
   "execution_count": 241,
   "id": "6dc585db-0ff3-49b7-8036-22d0f9965442",
   "metadata": {},
   "outputs": [
    {
     "name": "stdout",
     "output_type": "stream",
     "text": [
      "\n",
      "Image 'fit_hyper_time.png' successfully saved into 'img' directory\n"
     ]
    },
    {
     "data": {
      "image/png": "[encoded data removed]",
      "text/plain": [
       "<Figure size 800x400 with 2 Axes>"
      ]
     },
     "metadata": {},
     "output_type": "display_data"
    }
   ],
   "source": [
    "plot_times(\n",
    "    data=results,\n",
    "    times=['Fit Time', 'Tuning Time'],\n",
    "    palette=colors,\n",
    "    figsize=(8,4),\n",
    "    save=True, filename='fit_hyper_time'\n",
    ")"
   ]
  },
  {
   "cell_type": "markdown",
   "id": "34e60a19-66b8-4d58-9b1b-229dc140e8e0",
   "metadata": {},
   "source": [
    "### Save Session"
   ]
  },
  {
   "cell_type": "code",
   "execution_count": 243,
   "id": "af98abae-3e46-4469-8c20-e719dded7bbb",
   "metadata": {},
   "outputs": [],
   "source": [
    "save_session(dir_save)"
   ]
  },
  {
   "cell_type": "markdown",
   "id": "8dd55304-9708-4b94-82e9-9b9bf92a6efd",
   "metadata": {},
   "source": [
    "### Executing time"
   ]
  },
  {
   "cell_type": "code",
   "execution_count": 147,
   "id": "ade73c83-539e-427b-b00f-ea8c2c0fa937",
   "metadata": {},
   "outputs": [
    {
     "name": "stdout",
     "output_type": "stream",
     "text": [
      "Execution time: 0:01:26\n"
     ]
    }
   ],
   "source": [
    "e_time = str(dt.timedelta(seconds=np.round(time.time() - t_script)))\n",
    "print('Execution time: {}'.format(e_time))"
   ]
  }
 ],
 "metadata": {
  "kernelspec": {
   "display_name": "Python 3 (ipykernel)",
   "language": "python",
   "name": "python3"
  },
  "language_info": {
   "codemirror_mode": {
    "name": "ipython",
    "version": 3
   },
   "file_extension": ".py",
   "mimetype": "text/x-python",
   "name": "python",
   "nbconvert_exporter": "python",
   "pygments_lexer": "ipython3",
   "version": "3.12.2"
  }
 },
 "nbformat": 4,
 "nbformat_minor": 5
}
