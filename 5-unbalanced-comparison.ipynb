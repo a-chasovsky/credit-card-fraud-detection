{
 "cells": [
  {
   "cell_type": "code",
   "execution_count": 1,
   "id": "de38943f-8aa0-4564-aa79-9277fc45efd4",
   "metadata": {},
   "outputs": [],
   "source": [
    "import time \n",
    "t_script = time.time()"
   ]
  },
  {
   "cell_type": "markdown",
   "id": "5cf36487-472a-4178-b62e-c10f7df35a4a",
   "metadata": {},
   "source": [
    "### Load libraries, functions, palette, theme"
   ]
  },
  {
   "cell_type": "code",
   "execution_count": 2,
   "id": "bbbd32e0-d178-42d3-811a-02fbae16cfb7",
   "metadata": {},
   "outputs": [],
   "source": [
    "%run __libraries.ipynb"
   ]
  },
  {
   "cell_type": "code",
   "execution_count": 3,
   "id": "01d24292-637b-4fe5-b0f3-a225ac9c3fe2",
   "metadata": {},
   "outputs": [],
   "source": [
    "%run __functions.ipynb"
   ]
  },
  {
   "cell_type": "markdown",
   "id": "dfdd8eae-ec24-4bf2-8cb3-77e4abfb3968",
   "metadata": {},
   "source": [
    "### Load Saved Section if exists"
   ]
  },
  {
   "cell_type": "code",
   "execution_count": 4,
   "id": "322b9f05-436c-486d-a54f-111f2b98510b",
   "metadata": {},
   "outputs": [],
   "source": [
    "dir_save = '05-Unbalanced-Results'"
   ]
  },
  {
   "cell_type": "raw",
   "id": "402a0d66-df3d-4a7e-9e22-df6068c62b95",
   "metadata": {},
   "source": [
    "if os.path.exists(f'sessions/{dir_save}'):\n",
    "    load_session(dir_save)\n",
    "else:\n",
    "    print(f\"No such session: 'sessions/{dir_save}'\")"
   ]
  },
  {
   "cell_type": "markdown",
   "id": "92a929db-71b6-4575-bf93-6c35e0f4b646",
   "metadata": {},
   "source": [
    "## Unbalanced Results"
   ]
  },
  {
   "cell_type": "code",
   "execution_count": 5,
   "id": "cbbf50f3-58e9-421b-877d-e99287af7414",
   "metadata": {},
   "outputs": [],
   "source": [
    "colors = [\n",
    "    palette[1],\n",
    "    palette[2],\n",
    "    palette[-7],\n",
    "    palette[-9],\n",
    "    palette[-1]\n",
    "]"
   ]
  },
  {
   "cell_type": "code",
   "execution_count": 6,
   "id": "1c96c908-a690-4cef-b400-363f5a2d3d32",
   "metadata": {},
   "outputs": [],
   "source": [
    "models_list = [\n",
    "    'Logistic Regression',\n",
    "    'Random Forest',\n",
    "    'XGBoost',\n",
    "    'LightGBM'\n",
    "]"
   ]
  },
  {
   "cell_type": "code",
   "execution_count": 7,
   "id": "8f249577-ca8d-4651-b99c-1681187b3528",
   "metadata": {},
   "outputs": [],
   "source": [
    "metrics = [\n",
    "    'AUC ROC',\n",
    "    'Average Precision',\n",
    "    'Card Precision@100'\n",
    "]"
   ]
  },
  {
   "cell_type": "code",
   "execution_count": 8,
   "id": "5723fc38-d65b-4f82-8053-232914aa725c",
   "metadata": {},
   "outputs": [],
   "source": [
    "techniques_list = ['Base', 'RUS', 'SMOTE+RUS', 'Weighted']"
   ]
  },
  {
   "cell_type": "code",
   "execution_count": 9,
   "id": "5b43c871-ce5c-43be-9036-a67ca219805e",
   "metadata": {},
   "outputs": [],
   "source": [
    "cols_drop = ['Fit Time', 'Score Time', 'Tuning Time']"
   ]
  },
  {
   "cell_type": "markdown",
   "id": "e240e24d-50b2-4c1b-a5b7-59784b865ae7",
   "metadata": {},
   "source": [
    "### Load Results"
   ]
  },
  {
   "cell_type": "code",
   "execution_count": 10,
   "id": "99b09b07-47e8-4cce-b808-0da8644bb966",
   "metadata": {},
   "outputs": [
    {
     "ename": "EOFError",
     "evalue": "Ran out of input",
     "output_type": "error",
     "traceback": [
      "\u001b[0;31m---------------------------------------------------------------------------\u001b[0m",
      "\u001b[0;31mEOFError\u001b[0m                                  Traceback (most recent call last)",
      "Cell \u001b[0;32mIn[10], line 3\u001b[0m\n\u001b[1;32m      1\u001b[0m performance_base \u001b[38;5;241m=\u001b[39m pd\u001b[38;5;241m.\u001b[39mread_pickle(\u001b[38;5;124mr\u001b[39m\u001b[38;5;124m'\u001b[39m\u001b[38;5;124m_performance_base.pkl\u001b[39m\u001b[38;5;124m'\u001b[39m)\n\u001b[1;32m      2\u001b[0m summary_base \u001b[38;5;241m=\u001b[39m pd\u001b[38;5;241m.\u001b[39mread_pickle(\u001b[38;5;124mr\u001b[39m\u001b[38;5;124m'\u001b[39m\u001b[38;5;124m_summary_base.pkl\u001b[39m\u001b[38;5;124m'\u001b[39m)\n\u001b[0;32m----> 3\u001b[0m time_exec_base \u001b[38;5;241m=\u001b[39m \u001b[43mpd\u001b[49m\u001b[38;5;241;43m.\u001b[39;49m\u001b[43mread_pickle\u001b[49m\u001b[43m(\u001b[49m\u001b[38;5;124;43mr\u001b[39;49m\u001b[38;5;124;43m'\u001b[39;49m\u001b[38;5;124;43m_time_exec_base.pkl\u001b[39;49m\u001b[38;5;124;43m'\u001b[39;49m\u001b[43m)\u001b[49m\n",
      "File \u001b[0;32m/Library/Frameworks/Python.framework/Versions/3.12/lib/python3.12/site-packages/pandas/io/pickle.py:202\u001b[0m, in \u001b[0;36mread_pickle\u001b[0;34m(filepath_or_buffer, compression, storage_options)\u001b[0m\n\u001b[1;32m    199\u001b[0m     \u001b[38;5;28;01mwith\u001b[39;00m warnings\u001b[38;5;241m.\u001b[39mcatch_warnings(record\u001b[38;5;241m=\u001b[39m\u001b[38;5;28;01mTrue\u001b[39;00m):\n\u001b[1;32m    200\u001b[0m         \u001b[38;5;66;03m# We want to silence any warnings about, e.g. moved modules.\u001b[39;00m\n\u001b[1;32m    201\u001b[0m         warnings\u001b[38;5;241m.\u001b[39msimplefilter(\u001b[38;5;124m\"\u001b[39m\u001b[38;5;124mignore\u001b[39m\u001b[38;5;124m\"\u001b[39m, \u001b[38;5;167;01mWarning\u001b[39;00m)\n\u001b[0;32m--> 202\u001b[0m         \u001b[38;5;28;01mreturn\u001b[39;00m \u001b[43mpickle\u001b[49m\u001b[38;5;241;43m.\u001b[39;49m\u001b[43mload\u001b[49m\u001b[43m(\u001b[49m\u001b[43mhandles\u001b[49m\u001b[38;5;241;43m.\u001b[39;49m\u001b[43mhandle\u001b[49m\u001b[43m)\u001b[49m\n\u001b[1;32m    203\u001b[0m \u001b[38;5;28;01mexcept\u001b[39;00m excs_to_catch:\n\u001b[1;32m    204\u001b[0m     \u001b[38;5;66;03m# e.g.\u001b[39;00m\n\u001b[1;32m    205\u001b[0m     \u001b[38;5;66;03m#  \"No module named 'pandas.core.sparse.series'\"\u001b[39;00m\n\u001b[1;32m    206\u001b[0m     \u001b[38;5;66;03m#  \"Can't get attribute '__nat_unpickle' on <module 'pandas._libs.tslib\"\u001b[39;00m\n\u001b[1;32m    207\u001b[0m     \u001b[38;5;28;01mreturn\u001b[39;00m pc\u001b[38;5;241m.\u001b[39mload(handles\u001b[38;5;241m.\u001b[39mhandle, encoding\u001b[38;5;241m=\u001b[39m\u001b[38;5;28;01mNone\u001b[39;00m)\n",
      "\u001b[0;31mEOFError\u001b[0m: Ran out of input"
     ]
    }
   ],
   "source": [
    "performance_base = pd.read_pickle(r'_performance_base.pkl')\n",
    "summary_base = pd.read_pickle(r'_summary_base.pkl')\n",
    "time_exec_base = pd.read_pickle(r'_time_exec_base.pkl')"
   ]
  },
  {
   "cell_type": "code",
   "execution_count": null,
   "id": "45f00c5f-2495-48d7-ad38-18bf6be1fecc",
   "metadata": {},
   "outputs": [],
   "source": [
    "performance_unb = pd.read_pickle(r'_performance_unbalanced.pkl')\n",
    "summary_unb = pd.read_pickle(r'_summary_unbalanced.pkl')\n",
    "time_exec_unb = pd.read_pickle(r'_time_exec_unbalanced.pkl')"
   ]
  },
  {
   "cell_type": "markdown",
   "id": "c113fefa-87f5-45d4-a365-6cb4527b65e0",
   "metadata": {},
   "source": [
    "#### Base "
   ]
  },
  {
   "cell_type": "code",
   "execution_count": null,
   "id": "8cabaea1-7896-479d-ba9f-c83e44bd3b76",
   "metadata": {},
   "outputs": [],
   "source": [
    "performance_lr_base = performance_base['Logistic Regression']\n",
    "performance_rf_base = performance_base['Random Forest']\n",
    "performance_xgb_base = performance_base['XGBoost']\n",
    "performance_lgb_base = performance_base['LightGBM']\n",
    "\n",
    "exec_time_lr_base = time_exec_base['Logistic Regression']\n",
    "exec_time_rf_base = time_exec_base['Random Forest']\n",
    "exec_time_xgb_base = time_exec_base['XGBoost']\n",
    "exec_time_lgb_base = time_exec_base['LightGBM']"
   ]
  },
  {
   "cell_type": "markdown",
   "id": "a6274e27-5eb9-45a0-b303-b051f7b59287",
   "metadata": {},
   "source": [
    "#### RUS"
   ]
  },
  {
   "cell_type": "code",
   "execution_count": null,
   "id": "9a11e038-2f47-4b8e-88f7-70a35e30a305",
   "metadata": {},
   "outputs": [],
   "source": [
    "performance_lr_rus = performance_unb['Logistic Regression RUS']\n",
    "performance_rf_rus = performance_unb['Random Forest RUS']\n",
    "performance_xgb_rus = performance_unb['XGBoost RUS']\n",
    "performance_lgb_rus = performance_unb['LightGBM RUS']\n",
    "\n",
    "exec_time_lr_rus = time_exec_unb['Logistic Regression RUS']\n",
    "exec_time_rf_rus = time_exec_unb['Random Forest RUS']\n",
    "exec_time_xgb_rus = time_exec_unb['XGBoost RUS']\n",
    "exec_time_lgb_rus = time_exec_unb['LightGBM RUS']"
   ]
  },
  {
   "cell_type": "markdown",
   "id": "9f89a67c-81b7-42cf-8f76-e5c5a7dc4c2b",
   "metadata": {},
   "source": [
    "#### SMOTE+RUS"
   ]
  },
  {
   "cell_type": "code",
   "execution_count": null,
   "id": "be5cbfcd-5f3e-4a82-ac88-3ab82d175cb4",
   "metadata": {},
   "outputs": [],
   "source": [
    "performance_lr_smrus = performance_unb['Logistic Regression SMOTE+RUS']\n",
    "performance_rf_smrus = performance_unb['Random Forest SMOTE+RUS']\n",
    "performance_xgb_smrus = performance_unb['XGBoost SMOTE+RUS']\n",
    "performance_lgb_smrus = performance_unb['LightGBM SMOTE+RUS']\n",
    "\n",
    "exec_time_lr_smrus = time_exec_unb['Logistic Regression SMOTE+RUS']\n",
    "exec_time_rf_smrus = time_exec_unb['Random Forest SMOTE+RUS']\n",
    "exec_time_xgb_smrus = time_exec_unb['XGBoost SMOTE+RUS']\n",
    "exec_time_lgb_smrus = time_exec_unb['LightGBM SMOTE+RUS']"
   ]
  },
  {
   "cell_type": "markdown",
   "id": "a100e32a-2fe6-45f8-ab23-0992dea78f59",
   "metadata": {},
   "source": [
    "#### Weighted"
   ]
  },
  {
   "cell_type": "code",
   "execution_count": null,
   "id": "42e59dd6-b225-4003-83b0-d5e9264bf79e",
   "metadata": {},
   "outputs": [],
   "source": [
    "performance_lr_weight = performance_unb['Logistic Regression Weighted']\n",
    "performance_rf_weight = performance_unb['Random Forest Weighted']\n",
    "performance_xgb_weight = performance_unb['XGBoost Weighted']\n",
    "performance_lgb_weight = performance_unb['LightGBM Weighted']\n",
    "\n",
    "exec_time_lr_weight = time_exec_unb['Logistic Regression Weighted']\n",
    "exec_time_rf_weight = time_exec_unb['Random Forest Weighted']\n",
    "exec_time_xgb_weight = time_exec_unb['XGBoost Weighted']\n",
    "exec_time_lgb_weight = time_exec_unb['LightGBM Weighted']"
   ]
  },
  {
   "cell_type": "markdown",
   "id": "d5cdc341-ae84-4638-a983-dd8c314b16c6",
   "metadata": {},
   "source": [
    "### Logistic Regression"
   ]
  },
  {
   "cell_type": "code",
   "execution_count": null,
   "id": "37447904-44f0-4b90-bd37-58ef6c17cf99",
   "metadata": {},
   "outputs": [],
   "source": [
    "lr_performance_list = [\n",
    "    performance_lr_base,\n",
    "    performance_lr_rus,\n",
    "    performance_lr_smrus,\n",
    "    performance_lr_weight\n",
    "]"
   ]
  },
  {
   "cell_type": "code",
   "execution_count": null,
   "id": "6082e84b-7ba9-4132-97e5-952dd38c5904",
   "metadata": {},
   "outputs": [],
   "source": [
    "lr_exec_time_list = [\n",
    "    exec_time_lr_base,\n",
    "    exec_time_lr_rus,\n",
    "    exec_time_lr_smrus,\n",
    "    exec_time_lr_weight\n",
    "]"
   ]
  },
  {
   "cell_type": "code",
   "execution_count": null,
   "id": "0f90d8aa-db02-4569-91d4-c78e11082888",
   "metadata": {},
   "outputs": [],
   "source": [
    "results_lr_args = techniques_list, lr_performance_list, lr_exec_time_list"
   ]
  },
  {
   "cell_type": "code",
   "execution_count": null,
   "id": "e8064453-ca59-45e0-ade7-277462ecdedd",
   "metadata": {},
   "outputs": [],
   "source": [
    "unbalanced_lr = (results_df_create(*results_lr_args).drop(cols_drop, axis=1))"
   ]
  },
  {
   "cell_type": "code",
   "execution_count": null,
   "id": "1439ee7b-e1a0-4725-bf2a-3b22402e0451",
   "metadata": {},
   "outputs": [],
   "source": [
    "unbalanced_lr"
   ]
  },
  {
   "cell_type": "code",
   "execution_count": null,
   "id": "9e6b7097-4868-4034-b947-886b5af1b26c",
   "metadata": {},
   "outputs": [],
   "source": [
    "plot_unbalanced_model(\n",
    "    data=unbalanced_lr,\n",
    "    metrics_list=metrics,\n",
    "    colors=[colors[0], colors[0], colors[0]],\n",
    "    n_folds=4,\n",
    "    limits_list=[[0.80, 0.96, 0.05],\n",
    "                 [0.50, 0.81, 0.10],\n",
    "                 [0.25, 0.36, 0.05]],\n",
    "    save=False, filename='unbalanced_lr'\n",
    ")"
   ]
  },
  {
   "cell_type": "markdown",
   "id": "4028464c-416d-42b3-909a-3cd2b407f640",
   "metadata": {},
   "source": [
    "### Random Forest"
   ]
  },
  {
   "cell_type": "code",
   "execution_count": null,
   "id": "39ee8d21-46fa-455d-ad1e-9a8cdea159f2",
   "metadata": {},
   "outputs": [],
   "source": [
    "rf_performance_list = [\n",
    "    performance_rf_base,\n",
    "    performance_rf_rus,\n",
    "    performance_rf_smrus,\n",
    "    performance_rf_weight\n",
    "]"
   ]
  },
  {
   "cell_type": "code",
   "execution_count": null,
   "id": "0224e14f-77cd-4ba9-bf9d-d2c0c1620bb4",
   "metadata": {},
   "outputs": [],
   "source": [
    "rf_exec_time_list = [\n",
    "    exec_time_rf_base,\n",
    "    exec_time_rf_rus,\n",
    "    exec_time_rf_smrus,\n",
    "    exec_time_rf_weight\n",
    "]"
   ]
  },
  {
   "cell_type": "code",
   "execution_count": null,
   "id": "7c9fcbec-47c6-4dd5-9826-dc12720803c4",
   "metadata": {},
   "outputs": [],
   "source": [
    "results_rf_args = techniques_list, rf_performance_list, rf_exec_time_list"
   ]
  },
  {
   "cell_type": "code",
   "execution_count": null,
   "id": "927c0fef-f653-410e-acd1-79d72f8afa4b",
   "metadata": {},
   "outputs": [],
   "source": [
    "unbalanced_rf = (results_df_create(*results_rf_args).drop(cols_drop, axis=1))"
   ]
  },
  {
   "cell_type": "code",
   "execution_count": null,
   "id": "f7cfd3e4-7265-4d25-9d86-96d96e24e5c8",
   "metadata": {},
   "outputs": [],
   "source": [
    "unbalanced_rf"
   ]
  },
  {
   "cell_type": "code",
   "execution_count": null,
   "id": "b2db65aa-886b-438a-854c-ed0fa8dcbf8f",
   "metadata": {},
   "outputs": [],
   "source": [
    "plot_unbalanced_model(\n",
    "    data=unbalanced_rf,\n",
    "    metrics_list=metrics,\n",
    "    colors=[palette[2], palette[2], palette[2]],\n",
    "    n_folds=4,\n",
    "    limits_list=[[0.80, 0.96, 0.05],\n",
    "                 [0.50, 0.80, 0.10],\n",
    "                 [0.25, 0.36, 0.05]],\n",
    "    save=False, filename='unbalanced_rf'\n",
    ")"
   ]
  },
  {
   "cell_type": "markdown",
   "id": "367cb3cf-6051-4efd-89fb-c8adf848986c",
   "metadata": {},
   "source": [
    "### XGBoost"
   ]
  },
  {
   "cell_type": "code",
   "execution_count": null,
   "id": "67f101c8-0f49-4ea4-a7fc-a00fee9f978a",
   "metadata": {},
   "outputs": [],
   "source": [
    "xgb_performance_list = [\n",
    "    performance_xgb_base,\n",
    "    performance_xgb_rus,\n",
    "    performance_xgb_smrus,\n",
    "    performance_xgb_weight\n",
    "]"
   ]
  },
  {
   "cell_type": "code",
   "execution_count": null,
   "id": "3123d6e2-69e2-467a-97a7-86469ca85d25",
   "metadata": {},
   "outputs": [],
   "source": [
    "xgb_exec_time_list = [\n",
    "    exec_time_xgb_base,\n",
    "    exec_time_xgb_rus,\n",
    "    exec_time_xgb_smrus,\n",
    "    exec_time_xgb_weight\n",
    "]"
   ]
  },
  {
   "cell_type": "code",
   "execution_count": null,
   "id": "94d305b9-ce95-4ecf-8d24-dc13c297923e",
   "metadata": {},
   "outputs": [],
   "source": [
    "results_xgb_args = techniques_list, xgb_performance_list, xgb_exec_time_list"
   ]
  },
  {
   "cell_type": "code",
   "execution_count": null,
   "id": "eda220c8-cc7d-46a3-8ee9-5625b3b4b437",
   "metadata": {},
   "outputs": [],
   "source": [
    "unbalanced_xgb = (results_df_create(*results_xgb_args).drop(cols_drop, axis=1))"
   ]
  },
  {
   "cell_type": "code",
   "execution_count": null,
   "id": "ff8c9b50-894e-4c97-9591-ffda00eee8ff",
   "metadata": {},
   "outputs": [],
   "source": [
    "unbalanced_xgb"
   ]
  },
  {
   "cell_type": "code",
   "execution_count": null,
   "id": "d9a2fb62-eeec-4242-a015-e8e5aac6fafa",
   "metadata": {},
   "outputs": [],
   "source": [
    "plot_unbalanced_model(\n",
    "    data=unbalanced_xgb,\n",
    "    metrics_list=metrics,\n",
    "    colors=[palette[-7], palette[-7], palette[-7]],\n",
    "    figsize=(9, 3),\n",
    "    n_folds=4,\n",
    "    limits_list=[[0.80, 0.96, 0.05],\n",
    "                 [0.50, 0.80, 0.10],\n",
    "                 [0.25, 0.36, 0.05]],\n",
    "    save=True, filename='unbalanced_xgb'\n",
    ")"
   ]
  },
  {
   "cell_type": "markdown",
   "id": "13ecb7f8-5e3c-499e-a3c8-45d28cfb75af",
   "metadata": {},
   "source": [
    "### LightGBM"
   ]
  },
  {
   "cell_type": "code",
   "execution_count": null,
   "id": "96892c43-05e8-4d89-9a3c-55e2f55d6218",
   "metadata": {},
   "outputs": [],
   "source": [
    "lgb_performance_list = [\n",
    "    performance_lgb_base,\n",
    "    performance_lgb_rus,\n",
    "    performance_lgb_smrus,\n",
    "    performance_lgb_weight\n",
    "]"
   ]
  },
  {
   "cell_type": "code",
   "execution_count": null,
   "id": "2a180eaf-f364-44fe-9465-8691336142f4",
   "metadata": {},
   "outputs": [],
   "source": [
    "lgb_exec_time_list = [\n",
    "    exec_time_lgb_base,\n",
    "    exec_time_lgb_rus,\n",
    "    exec_time_lgb_smrus,\n",
    "    exec_time_lgb_weight\n",
    "]"
   ]
  },
  {
   "cell_type": "code",
   "execution_count": null,
   "id": "a1fcbd50-673b-4b14-8af8-91b2b5b71827",
   "metadata": {},
   "outputs": [],
   "source": [
    "results_lgb_args = techniques_list, lgb_performance_list, lgb_exec_time_list"
   ]
  },
  {
   "cell_type": "code",
   "execution_count": null,
   "id": "4da8b261-2229-45e8-b712-e608dce16240",
   "metadata": {},
   "outputs": [],
   "source": [
    "unbalanced_lgb = (results_df_create(*results_lgb_args).drop(cols_drop, axis=1))"
   ]
  },
  {
   "cell_type": "code",
   "execution_count": null,
   "id": "3bec80a8-aa90-46a9-9a57-5c4af21d4eec",
   "metadata": {},
   "outputs": [],
   "source": [
    "unbalanced_lgb"
   ]
  },
  {
   "cell_type": "code",
   "execution_count": null,
   "id": "9e303fb1-3a2c-4ba0-8b92-6bbace39da6b",
   "metadata": {},
   "outputs": [],
   "source": [
    "plot_unbalanced_model(\n",
    "    data=unbalanced_lgb,\n",
    "    metrics_list=metrics,\n",
    "    colors=[palette[-9], palette[-9], palette[-9]],\n",
    "    n_folds=4,\n",
    "    limits_list=[[0.80, 0.96, 0.05],\n",
    "                 [0.50, 0.80, 0.10],\n",
    "                 [0.25, 0.36, 0.05]],\n",
    "    save=False, filename='unbalanced_lgb'\n",
    ")"
   ]
  },
  {
   "cell_type": "code",
   "execution_count": null,
   "id": "695fcb90-76d2-4142-a196-1b6d5a841310",
   "metadata": {},
   "outputs": [],
   "source": [
    "unbalanced_list = [\n",
    "    unbalanced_lr,\n",
    "    unbalanced_rf,\n",
    "    unbalanced_xgb,\n",
    "    unbalanced_lgb\n",
    "]"
   ]
  },
  {
   "cell_type": "code",
   "execution_count": null,
   "id": "375f2659-fd51-44d1-a54a-4def18838b21",
   "metadata": {},
   "outputs": [],
   "source": [
    "for df, model in zip(unbalanced_list, models_list):\n",
    "    df['model'] = model"
   ]
  },
  {
   "cell_type": "code",
   "execution_count": null,
   "id": "598686b2-4e96-4460-aa38-eb7768d54e8b",
   "metadata": {},
   "outputs": [],
   "source": [
    "unbalanced_df_metric = pd.concat(unbalanced_list, axis=0)"
   ]
  },
  {
   "cell_type": "code",
   "execution_count": null,
   "id": "46a4e355-0b9e-4e1a-84e7-39276125722b",
   "metadata": {},
   "outputs": [],
   "source": [
    "plot_unbalanced_metric(\n",
    "    data=unbalanced_df_metric,\n",
    "    metric='AUC ROC',\n",
    "    colors=colors[:4],\n",
    "    models_list=models_list,\n",
    "    save=True,\n",
    "    filename='unbalanced_roc_auc'\n",
    ")"
   ]
  },
  {
   "cell_type": "code",
   "execution_count": null,
   "id": "823ba339-8281-48a7-8a7b-7501b0575d8e",
   "metadata": {},
   "outputs": [],
   "source": [
    "plot_unbalanced_metric(\n",
    "    data=unbalanced_df_metric,\n",
    "    metric='Average Precision',\n",
    "    colors=colors[:4],\n",
    "    models_list=models_list,\n",
    "    save=True,\n",
    "    filename='unbalanced_av_prec'\n",
    ")"
   ]
  },
  {
   "cell_type": "code",
   "execution_count": null,
   "id": "2ec695da-a506-4e21-82ff-2c3a2acf8c3c",
   "metadata": {},
   "outputs": [],
   "source": [
    "plot_unbalanced_metric(\n",
    "    data=unbalanced_df_metric,\n",
    "    metric='Card Precision@100',\n",
    "    colors=colors[:4],\n",
    "    models_list=models_list,\n",
    "    save=True,\n",
    "    filename='unbalanced_card_prec'\n",
    ")"
   ]
  },
  {
   "cell_type": "markdown",
   "id": "668dcbb8-f301-4256-bdc1-2630c96ae84e",
   "metadata": {},
   "source": [
    "### Save Session"
   ]
  },
  {
   "cell_type": "code",
   "execution_count": null,
   "id": "79808714-9930-452b-8a11-03080e9b5e11",
   "metadata": {},
   "outputs": [],
   "source": [
    "save_session(dir_save)"
   ]
  },
  {
   "cell_type": "markdown",
   "id": "6e64d5e4-1fef-4252-818d-a2a20cca91ef",
   "metadata": {},
   "source": [
    "### Executing time"
   ]
  },
  {
   "cell_type": "code",
   "execution_count": null,
   "id": "ca855457-a619-4250-9758-2ae937462fe6",
   "metadata": {},
   "outputs": [],
   "source": [
    "e_time = str(dt.timedelta(seconds=np.round(time.time() - t_script)))\n",
    "print('Execution time: {}'.format(e_time))"
   ]
  }
 ],
 "metadata": {
  "kernelspec": {
   "display_name": "Python 3 (ipykernel)",
   "language": "python",
   "name": "python3"
  },
  "language_info": {
   "codemirror_mode": {
    "name": "ipython",
    "version": 3
   },
   "file_extension": ".py",
   "mimetype": "text/x-python",
   "name": "python",
   "nbconvert_exporter": "python",
   "pygments_lexer": "ipython3",
   "version": "3.12.2"
  }
 },
 "nbformat": 4,
 "nbformat_minor": 5
}
